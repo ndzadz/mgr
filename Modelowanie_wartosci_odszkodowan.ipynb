{
 "cells": [
  {
   "attachments": {},
   "cell_type": "markdown",
   "metadata": {},
   "source": [
    "# Modelowanie wartości odszkodowań"
   ]
  },
  {
   "attachments": {},
   "cell_type": "markdown",
   "metadata": {},
   "source": [
    "### Estymowanie metodą estymatora największej wiarogodności"
   ]
  },
  {
   "cell_type": "code",
   "execution_count": 3,
   "metadata": {},
   "outputs": [],
   "source": [
    "import numpy as np\n",
    "import pandas as pd\n",
    "from scipy import stats"
   ]
  },
  {
   "cell_type": "code",
   "execution_count": 4,
   "metadata": {},
   "outputs": [],
   "source": [
    "data = pd.read_csv(\"https://github.com/ndzadz/mgr/blob/main/data_us_1990_2022.csv?raw=true\",encoding=\"latin1\",sep=\";\",header=0)"
   ]
  },
  {
   "cell_type": "code",
   "execution_count": 5,
   "metadata": {},
   "outputs": [
    {
     "data": {
      "text/plain": [
       "5786907.8999999985"
      ]
     },
     "execution_count": 5,
     "metadata": {},
     "output_type": "execute_result"
    }
   ],
   "source": [
    "p95 = np.percentile(data[data[\"Insured Damages, Adjusted (\\'000 US$)\"].isna()==0][\"Insured Damages, Adjusted (\\'000 US$)\"],95)\n",
    "p95"
   ]
  },
  {
   "cell_type": "code",
   "execution_count": 6,
   "metadata": {},
   "outputs": [],
   "source": [
    "X = data[(data[\"Insured Damages, Adjusted (\\'000 US$)\"].isna()==0)&(data[\"Insured Damages, Adjusted (\\'000 US$)\"]<p95)]['Insured Damages, Adjusted (\\'000 US$)']"
   ]
  },
  {
   "attachments": {},
   "cell_type": "markdown",
   "metadata": {},
   "source": [
    "#### Rozkład wykładniczy"
   ]
  },
  {
   "attachments": {},
   "cell_type": "markdown",
   "metadata": {},
   "source": [
    "$\\hat{\\lambda}=\\frac{n}{\\sum\\limits_{i=1}^n x_i}$"
   ]
  },
  {
   "cell_type": "code",
   "execution_count": 7,
   "metadata": {},
   "outputs": [
    {
     "name": "stdout",
     "output_type": "stream",
     "text": [
      "1.395177366818116e-06\n"
     ]
    }
   ],
   "source": [
    "lambda_hat = len(X)/sum(X)\n",
    "print(lambda_hat)"
   ]
  },
  {
   "cell_type": "code",
   "execution_count": 8,
   "metadata": {},
   "outputs": [
    {
     "data": {
      "text/plain": [
       "0.0"
      ]
     },
     "execution_count": 8,
     "metadata": {},
     "output_type": "execute_result"
    }
   ],
   "source": [
    "exp_res = stats.kstest(X, stats.expon.cdf,args=(lambda_hat,))\n",
    "exp_res.pvalue"
   ]
  },
  {
   "attachments": {},
   "cell_type": "markdown",
   "metadata": {},
   "source": [
    "#### Rozkład lognormalny"
   ]
  },
  {
   "attachments": {},
   "cell_type": "markdown",
   "metadata": {},
   "source": [
    "$\\hat{\\mu} = \\frac{\\sum\\limits_{i=1}^n\\ln x_i}{n}\n",
    "\\\\\n",
    "\\hat{\\sigma}^2 = \\frac{\\sum\\limits_{i=1}^n\\left(\\ln x_i-\\frac{\\sum_{i=1}^n\\ln x_i}{n}\\right)^2}{n}$"
   ]
  },
  {
   "cell_type": "code",
   "execution_count": 9,
   "metadata": {},
   "outputs": [
    {
     "name": "stdout",
     "output_type": "stream",
     "text": [
      "12.621668063027776 2.3407817241437945\n"
     ]
    }
   ],
   "source": [
    "mu_hat = sum(np.log(X))/len(X)\n",
    "sigma_sq_hat = sum(np.square(np.log(X)-mu_hat))/len(X)\n",
    "print(mu_hat,sigma_sq_hat)"
   ]
  },
  {
   "cell_type": "code",
   "execution_count": 10,
   "metadata": {},
   "outputs": [
    {
     "data": {
      "text/plain": [
       "8.73454306055164e-294"
      ]
     },
     "execution_count": 10,
     "metadata": {},
     "output_type": "execute_result"
    }
   ],
   "source": [
    "lognorm_res = stats.kstest(X, stats.lognorm.cdf,args=(mu_hat,sigma_sq_hat))\n",
    "lognorm_res.pvalue"
   ]
  },
  {
   "attachments": {},
   "cell_type": "markdown",
   "metadata": {},
   "source": [
    "#### Rozkład gamma"
   ]
  },
  {
   "attachments": {},
   "cell_type": "markdown",
   "metadata": {},
   "source": [
    "$\\hat{\\lambda}=\\left(\\frac{1}{n}\\displaystyle{\\sum_{i=1}^n}x_i^{\\hat{k}}\\right)^{\\frac{1}{\\hat{k}}}\n",
    "\\\\\n",
    "\\hat{k}=\\frac{n}{\\frac{1}{\\hat{\\lambda}}\\displaystyle{\\sum_{i=1}^{n}}x_i^{\\hat{k}}\\ln x_i-\\displaystyle{\\sum_{i=1}^{n}}\\ln x_i}$"
   ]
  },
  {
   "cell_type": "code",
   "execution_count": 11,
   "metadata": {},
   "outputs": [],
   "source": [
    "from scipy.special import digamma, gamma"
   ]
  },
  {
   "cell_type": "code",
   "execution_count": 32,
   "metadata": {},
   "outputs": [],
   "source": [
    "import numpy as np\n",
    "from scipy.special import digamma, gamma, polygamma\n",
    "\n",
    "def gamma_mle(data):\n",
    "    \"\"\"Funkcja oblicza estymator największej wiarygodności dla rozkładu gamma.\"\"\"\n",
    "    n = len(data)\n",
    "    s = np.log(np.mean(data)) - np.mean(np.log(data))\n",
    "    r = np.log(n) - np.sum(digamma(data)) / n\n",
    "    x0 = np.array([s, r])\n",
    "\n",
    "    # Definicja funkcji i pochodnej log-likelihood dla rozkładu gamma\n",
    "    def loglik(theta):\n",
    "        return n * (theta[1] * np.log(theta[0]) - gamma(theta[1]) + (theta[1] - 1) * np.mean(np.log(data))) + n * np.log(gamma(theta[1]))\n",
    "\n",
    "    def dloglik(theta):\n",
    "        d1 = n * (np.log(theta[0]) - digamma(theta[1]))\n",
    "        d2 = n * (theta[1] / theta[0] - np.mean(np.log(data)) + np.log(theta[0]) - polygamma(0, theta[1]))\n",
    "        return np.array([d1, d2])\n",
    "\n",
    "    # Implementacja algorytmu Newtona-Raphsona\n",
    "    tol = 1e-6\n",
    "    max_iter = 100\n",
    "    iter = 0\n",
    "    diff = tol + 1\n",
    "    while iter < max_iter and diff > tol:\n",
    "        theta = x0 - np.linalg.inv(hessian(x0, dloglik)) @ dloglik(x0)\n",
    "        diff = np.linalg.norm(theta - x0)\n",
    "        x0 = theta\n",
    "        iter += 1\n",
    "\n",
    "    return x0[0], x0[1]\n",
    "\n",
    "def hessian(x, f):\n",
    "    \"\"\"Funkcja oblicza hesjan dla funkcji f w punkcie x.\"\"\"\n",
    "    n = len(x)\n",
    "    hess = np.zeros((n, n))\n",
    "    eps = 1e-6\n",
    "    for i in range(n):\n",
    "        for j in range(i, n):\n",
    "            e_i = np.zeros(n)\n",
    "            e_j = np.zeros(n)\n",
    "            e_i[i] = eps\n",
    "            e_j[j] = eps\n",
    "            hess[i, j] = (f(x + e_i + e_j) - f(x + e_i) - f(x + e_j) + f(x)) / (eps ** 2)\n",
    "            hess[j, i] = hess[i, j]\n",
    "    return hess\n"
   ]
  },
  {
   "cell_type": "code",
   "execution_count": 31,
   "metadata": {},
   "outputs": [],
   "source": [
    "from scipy.optimize import fsolve\n",
    "from scipy.special import psi"
   ]
  },
  {
   "cell_type": "code",
   "execution_count": 56,
   "metadata": {},
   "outputs": [
    {
     "name": "stdout",
     "output_type": "stream",
     "text": [
      "1.0 1.0\n"
     ]
    },
    {
     "name": "stderr",
     "output_type": "stream",
     "text": [
      "C:\\Users\\ndzad\\AppData\\Local\\Temp/ipykernel_12980/3568942317.py:5: RuntimeWarning: divide by zero encountered in log\n",
      "  eq2 = np.log(np.mean(X)/np.power(np.prod(X),1/n))-np.log(alpha)+psi(alpha)\n"
     ]
    }
   ],
   "source": [
    "def gamma_mle_equations(params, X):\n",
    "    alpha, beta = params\n",
    "    n = len(X)\n",
    "    eq1 = alpha/np.mean(X) - beta\n",
    "    eq2 = np.log(np.mean(X)/np.power(np.prod(X),1/n))-np.log(alpha)+psi(alpha)\n",
    "    return eq1, eq2\n",
    "\n",
    "alpha, beta = fsolve(gamma_mle_equations, [1,1], args=(X))\n",
    "print(alpha,beta)"
   ]
  },
  {
   "cell_type": "code",
   "execution_count": 55,
   "metadata": {},
   "outputs": [
    {
     "data": {
      "text/plain": [
       "inf"
      ]
     },
     "execution_count": 55,
     "metadata": {},
     "output_type": "execute_result"
    }
   ],
   "source": [
    "np.prod(X)"
   ]
  },
  {
   "attachments": {},
   "cell_type": "markdown",
   "metadata": {},
   "source": [
    "#### Rozkład Weibulla"
   ]
  },
  {
   "attachments": {},
   "cell_type": "markdown",
   "metadata": {},
   "source": [
    "$\\hat{\\lambda}=\\left(\\frac{1}{n}\\displaystyle{\\sum_{i=1}^n}x_i^{\\hat{k}}\\right)^{\\frac{1}{\\hat{k}}}\n",
    "\\\\\n",
    "\\hat{k}=\\frac{n}{\\frac{1}{\\hat{\\lambda}}\\displaystyle{\\sum_{i=1}^{n}}x_i^{\\hat{k}}\\ln x_i-\\displaystyle{\\sum_{i=1}^{n}}\\ln x_i}$"
   ]
  },
  {
   "cell_type": "code",
   "execution_count": 44,
   "metadata": {},
   "outputs": [
    {
     "name": "stdout",
     "output_type": "stream",
     "text": [
      "-0.07922893559021643 275203.25662999536\n"
     ]
    }
   ],
   "source": [
    "def weibull_mle_equations(params, X):\n",
    "    k, lamb = params\n",
    "    n = len(X)\n",
    "    eq1 = np.power(np.sum(np.power(X, k)) / n, 1/k) - lamb\n",
    "    eq2 = n / (np.sum(np.power(X, k)*np.log(X)) / lamb - np.sum(np.log(X))) - k\n",
    "    return [eq1, eq2]\n",
    "\n",
    "k, lamb = fsolve(weibull_mle_equations, [1,1], args=(X))\n",
    "print(k,lamb)"
   ]
  }
 ],
 "metadata": {
  "kernelspec": {
   "display_name": "base",
   "language": "python",
   "name": "python3"
  },
  "language_info": {
   "codemirror_mode": {
    "name": "ipython",
    "version": 3
   },
   "file_extension": ".py",
   "mimetype": "text/x-python",
   "name": "python",
   "nbconvert_exporter": "python",
   "pygments_lexer": "ipython3",
   "version": "3.9.7"
  },
  "orig_nbformat": 4
 },
 "nbformat": 4,
 "nbformat_minor": 2
}
