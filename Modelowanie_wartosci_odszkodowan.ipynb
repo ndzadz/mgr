{
 "cells": [
  {
   "attachments": {},
   "cell_type": "markdown",
   "metadata": {},
   "source": [
    "# Modelowanie wartości odszkodowań"
   ]
  },
  {
   "attachments": {},
   "cell_type": "markdown",
   "metadata": {},
   "source": [
    "### Estymowanie metodą estymatora największej wiarogodności"
   ]
  },
  {
   "cell_type": "code",
   "execution_count": 1,
   "metadata": {},
   "outputs": [],
   "source": [
    "import numpy as np\n",
    "import pandas as pd\n",
    "from scipy import integrate\n",
    "from scipy import stats\n",
    "import matplotlib.pyplot as plt\n",
    "from matplotlib.ticker import MaxNLocator\n",
    "import random"
   ]
  },
  {
   "cell_type": "code",
   "execution_count": 2,
   "metadata": {},
   "outputs": [],
   "source": [
    "data = pd.read_csv(\"https://github.com/ndzadz/mgr/blob/main/data_us_1990_2022.csv?raw=true\",encoding=\"latin1\",sep=\";\",header=0)"
   ]
  },
  {
   "cell_type": "code",
   "execution_count": 3,
   "metadata": {},
   "outputs": [
    {
     "data": {
      "text/plain": [
       "5786907.8999999985"
      ]
     },
     "execution_count": 3,
     "metadata": {},
     "output_type": "execute_result"
    }
   ],
   "source": [
    "p95 = np.percentile(data[data[\"Insured Damages, Adjusted (\\'000 US$)\"].isna()==0][\"Insured Damages, Adjusted (\\'000 US$)\"],95)\n",
    "p95"
   ]
  },
  {
   "cell_type": "code",
   "execution_count": 4,
   "metadata": {},
   "outputs": [],
   "source": [
    "X = data[(data[\"Insured Damages, Adjusted (\\'000 US$)\"].isna()==0)&(data[\"Insured Damages, Adjusted (\\'000 US$)\"]<p95)]['Insured Damages, Adjusted (\\'000 US$)']"
   ]
  },
  {
   "cell_type": "code",
   "execution_count": 5,
   "metadata": {},
   "outputs": [
    {
     "data": {
      "image/png": "[encoded data removed]",
      "text/plain": [
       "<Figure size 432x288 with 1 Axes>"
      ]
     },
     "metadata": {
      "needs_background": "light"
     },
     "output_type": "display_data"
    }
   ],
   "source": [
    "plt.hist(X)\n",
    "plt.show()"
   ]
  },
  {
   "attachments": {},
   "cell_type": "markdown",
   "metadata": {},
   "source": [
    "#### Rozkład wykładniczy"
   ]
  },
  {
   "attachments": {},
   "cell_type": "markdown",
   "metadata": {},
   "source": [
    "$\\hat{\\lambda}=\\frac{n}{\\sum\\limits_{i=1}^n x_i}$"
   ]
  },
  {
   "cell_type": "code",
   "execution_count": 6,
   "metadata": {},
   "outputs": [
    {
     "name": "stdout",
     "output_type": "stream",
     "text": [
      "1.395e-06\n"
     ]
    }
   ],
   "source": [
    "lambda_hat = len(X)/sum(X)\n",
    "print(round(lambda_hat,9))"
   ]
  },
  {
   "cell_type": "code",
   "execution_count": 7,
   "metadata": {},
   "outputs": [
    {
     "data": {
      "text/plain": [
       "1.395177366818116e-06"
      ]
     },
     "execution_count": 7,
     "metadata": {},
     "output_type": "execute_result"
    }
   ],
   "source": [
    "1/stats.expon.fit(X,floc=0)[1] #Wynik z biblioteki floc to parametr polozenia"
   ]
  },
  {
   "cell_type": "code",
   "execution_count": 8,
   "metadata": {},
   "outputs": [
    {
     "data": {
      "text/plain": [
       "2.2043137923534118e-13"
      ]
     },
     "execution_count": 8,
     "metadata": {},
     "output_type": "execute_result"
    }
   ],
   "source": [
    "exp_res = stats.kstest(X, stats.expon(scale=1/lambda_hat).cdf)\n",
    "exp_res.pvalue"
   ]
  },
  {
   "cell_type": "code",
   "execution_count": 9,
   "metadata": {},
   "outputs": [
    {
     "data": {
      "image/png": "[encoded data removed]",
      "text/plain": [
       "<Figure size 432x288 with 1 Axes>"
      ]
     },
     "metadata": {
      "needs_background": "light"
     },
     "output_type": "display_data"
    }
   ],
   "source": [
    "plt.hist(stats.expon.rvs(scale=1/lambda_hat,loc=0,size=500))\n",
    "plt.show()"
   ]
  },
  {
   "cell_type": "markdown",
   "metadata": {},
   "source": [
    "Testy"
   ]
  },
  {
   "cell_type": "code",
   "execution_count": 10,
   "metadata": {},
   "outputs": [
    {
     "name": "stdout",
     "output_type": "stream",
     "text": [
      "       rozkład test  Wartość statystyki       p value\n",
      "0  Wykładniczy   KS                0.17  2.204314e-13\n",
      "1  Wykładniczy   CM                3.84  1.057934e-09\n"
     ]
    }
   ],
   "source": [
    "print(pd.DataFrame\n",
    "({\n",
    "    'rozkład':['Wykładniczy','Wykładniczy'],\n",
    "    'test': ['KS','CM'],\n",
    "    'Wartość statystyki' : [round(stats.kstest(X, stats.expon(scale=1/lambda_hat,loc=0).cdf)[0],2),round(stats.cramervonmises(X, stats.expon(scale=1/lambda_hat,loc=0).cdf).statistic,2)],\n",
    "    'p value' : [stats.kstest(X, stats.expon(scale=1/lambda_hat,loc=0).cdf)[1],stats.cramervonmises(X, stats.expon(scale=1/lambda_hat,loc=0).cdf).pvalue]\n",
    "}))"
   ]
  },
  {
   "attachments": {},
   "cell_type": "markdown",
   "metadata": {},
   "source": [
    "#### Rozkład lognormalny"
   ]
  },
  {
   "attachments": {},
   "cell_type": "markdown",
   "metadata": {},
   "source": [
    "$\\hat{\\mu} = \\frac{\\sum\\limits_{i=1}^n\\ln x_i}{n}\n",
    "\\\\\n",
    "\\hat{\\sigma}^2 = \\frac{\\sum\\limits_{i=1}^n\\left(\\ln x_i-\\frac{\\sum_{i=1}^n\\ln x_i}{n}\\right)^2}{n}$"
   ]
  },
  {
   "cell_type": "code",
   "execution_count": 11,
   "metadata": {},
   "outputs": [
    {
     "name": "stdout",
     "output_type": "stream",
     "text": [
      "12.62 2.34\n"
     ]
    }
   ],
   "source": [
    "mu_hat = sum(np.log(X))/len(X)\n",
    "sigma_sq_hat = sum(np.square(np.log(X)-mu_hat))/len(X)\n",
    "print(round(mu_hat,2),round(sigma_sq_hat,2))"
   ]
  },
  {
   "cell_type": "code",
   "execution_count": 12,
   "metadata": {},
   "outputs": [
    {
     "name": "stdout",
     "output_type": "stream",
     "text": [
      "12.621668063027759 2.340781724143795\n"
     ]
    }
   ],
   "source": [
    "#Z dokumentacji \"Suppose a normally distributed random variable X has mean mu and standard deviation sigma. Then Y = exp(X) is lognormally distributed with s = sigma and scale = exp(mu).\"\n",
    "\n",
    "print(np.log(stats.lognorm.fit(X,floc=0)[2]), np.square(stats.lognorm.fit(X,floc=0)[0]))"
   ]
  },
  {
   "cell_type": "code",
   "execution_count": 13,
   "metadata": {},
   "outputs": [
    {
     "data": {
      "image/png": "[encoded data removed]",
      "text/plain": [
       "<Figure size 432x288 with 1 Axes>"
      ]
     },
     "metadata": {
      "needs_background": "light"
     },
     "output_type": "display_data"
    }
   ],
   "source": [
    "plt.hist(stats.lognorm.rvs(s=np.sqrt(sigma_sq_hat),scale=np.exp(mu_hat),size=500))\n",
    "plt.show()"
   ]
  },
  {
   "attachments": {},
   "cell_type": "markdown",
   "metadata": {},
   "source": [
    "Testy"
   ]
  },
  {
   "cell_type": "code",
   "execution_count": 14,
   "metadata": {},
   "outputs": [
    {
     "name": "stdout",
     "output_type": "stream",
     "text": [
      "       rozkład test  Wartość statystyki   p value\n",
      "0  Lognormalny   KS                0.06  0.067392\n",
      "1  Lognormalny   CM                0.31  0.124573\n"
     ]
    }
   ],
   "source": [
    "print(pd.DataFrame\n",
    "({\n",
    "    'rozkład':['Lognormalny','Lognormalny'],\n",
    "    'test': ['KS','CM'],\n",
    "    'Wartość statystyki' : [round(stats.kstest(X, stats.lognorm(np.sqrt(sigma_sq_hat),0,np.exp(mu_hat)).cdf)[0],2),round(stats.cramervonmises(X, stats.lognorm(np.sqrt(sigma_sq_hat),0,np.exp(mu_hat)).cdf).statistic,2)],\n",
    "    'p value' : [stats.kstest(X, stats.lognorm(np.sqrt(sigma_sq_hat),0,np.exp(mu_hat)).cdf)[1],stats.cramervonmises(X, stats.lognorm(np.sqrt(sigma_sq_hat),0,np.exp(mu_hat)).cdf).pvalue]\n",
    "}))"
   ]
  },
  {
   "attachments": {},
   "cell_type": "markdown",
   "metadata": {},
   "source": [
    "#### Rozkład gamma"
   ]
  },
  {
   "attachments": {},
   "cell_type": "markdown",
   "metadata": {},
   "source": [
    "$\\hat{\\lambda}=\\left(\\frac{1}{n}\\displaystyle{\\sum_{i=1}^n}x_i^{\\hat{k}}\\right)^{\\frac{1}{\\hat{k}}}\n",
    "\\\\\n",
    "\\hat{k}=\\frac{n}{\\frac{1}{\\hat{\\lambda}}\\displaystyle{\\sum_{i=1}^{n}}x_i^{\\hat{k}}\\ln x_i-\\displaystyle{\\sum_{i=1}^{n}}\\ln x_i}$"
   ]
  },
  {
   "cell_type": "code",
   "execution_count": 15,
   "metadata": {},
   "outputs": [],
   "source": [
    "from scipy.special import digamma, gamma"
   ]
  },
  {
   "cell_type": "code",
   "execution_count": 16,
   "metadata": {},
   "outputs": [],
   "source": [
    "import numpy as np\n",
    "from scipy.special import digamma, gamma, polygamma\n",
    "\n",
    "def gamma_mle(data):\n",
    "    \"\"\"Funkcja oblicza estymator największej wiarygodności dla rozkładu gamma.\"\"\"\n",
    "    n = len(data)\n",
    "    s = np.log(np.mean(data)) - np.mean(np.log(data))\n",
    "    r = np.log(n) - np.sum(digamma(data)) / n\n",
    "    x0 = np.array([s, r])\n",
    "\n",
    "    # Definicja funkcji i pochodnej log-likelihood dla rozkładu gamma\n",
    "    def loglik(theta):\n",
    "        return n * (theta[1] * np.log(theta[0]) - gamma(theta[1]) + (theta[1] - 1) * np.mean(np.log(data))) + n * np.log(gamma(theta[1]))\n",
    "\n",
    "    def dloglik(theta):\n",
    "        d1 = n * (np.log(theta[0]) - digamma(theta[1]))\n",
    "        d2 = n * (theta[1] / theta[0] - np.mean(np.log(data)) + np.log(theta[0]) - polygamma(0, theta[1]))\n",
    "        return np.array([d1, d2])\n",
    "\n",
    "    # Implementacja algorytmu Newtona-Raphsona\n",
    "    tol = 1e-6\n",
    "    max_iter = 100\n",
    "    iter = 0\n",
    "    diff = tol + 1\n",
    "    while iter < max_iter and diff > tol:\n",
    "        theta = x0 - np.linalg.inv(hessian(x0, dloglik)) @ dloglik(x0)\n",
    "        diff = np.linalg.norm(theta - x0)\n",
    "        x0 = theta\n",
    "        iter += 1\n",
    "\n",
    "    return x0[0], x0[1]\n",
    "\n",
    "def hessian(x, f):\n",
    "    \"\"\"Funkcja oblicza hesjan dla funkcji f w punkcie x.\"\"\"\n",
    "    n = len(x)\n",
    "    hess = np.zeros((n, n))\n",
    "    eps = 1e-6\n",
    "    for i in range(n):\n",
    "        for j in range(i, n):\n",
    "            e_i = np.zeros(n)\n",
    "            e_j = np.zeros(n)\n",
    "            e_i[i] = eps\n",
    "            e_j[j] = eps\n",
    "            hess[i, j] = (f(x + e_i + e_j) - f(x + e_i) - f(x + e_j) + f(x)) / (eps ** 2)\n",
    "            hess[j, i] = hess[i, j]\n",
    "    return hess\n"
   ]
  },
  {
   "cell_type": "code",
   "execution_count": 17,
   "metadata": {},
   "outputs": [],
   "source": [
    "from scipy.optimize import anderson\n",
    "from scipy.special import psi"
   ]
  },
  {
   "cell_type": "code",
   "execution_count": 18,
   "metadata": {},
   "outputs": [
    {
     "name": "stdout",
     "output_type": "stream",
     "text": [
      "0.7 9.791403734607547e-07\n"
     ]
    }
   ],
   "source": [
    "gamma_alfa = stats.gamma.fit(X,floc=0)[0]\n",
    "gamma_beta = 1/stats.gamma.fit(X,floc=0)[2]\n",
    "print(round(gamma_alfa,2),gamma_beta)"
   ]
  },
  {
   "cell_type": "code",
   "execution_count": 19,
   "metadata": {},
   "outputs": [
    {
     "data": {
      "image/png": "[encoded data removed]",
      "text/plain": [
       "<Figure size 432x288 with 1 Axes>"
      ]
     },
     "metadata": {
      "needs_background": "light"
     },
     "output_type": "display_data"
    }
   ],
   "source": [
    "plt.hist(stats.gamma.rvs(a=gamma_alfa,scale=1/gamma_beta,size=500))\n",
    "plt.show()"
   ]
  },
  {
   "cell_type": "markdown",
   "metadata": {},
   "source": [
    "Testy"
   ]
  },
  {
   "cell_type": "code",
   "execution_count": 22,
   "metadata": {},
   "outputs": [
    {
     "name": "stdout",
     "output_type": "stream",
     "text": [
      "  rozkład test  Wartość statystyki   p value\n",
      "0   Gamma   KS                0.11  0.000022\n",
      "1   Gamma   CM                0.92  0.003782\n"
     ]
    }
   ],
   "source": [
    "print(pd.DataFrame\n",
    "({\n",
    "    'rozkład':['Gamma','Gamma'],\n",
    "    'test': ['KS','CM'],\n",
    "    'Wartość statystyki' : [round(stats.kstest(X, stats.gamma(a=gamma_alfa,scale=1/gamma_beta).cdf)[0],2),round(stats.cramervonmises(X, stats.gamma(a=gamma_alfa,scale=1/gamma_beta).cdf).statistic,2)],\n",
    "    'p value' : [stats.kstest(X, stats.gamma(a=gamma_alfa,scale=1/gamma_beta).cdf)[1],stats.cramervonmises(X, stats.gamma(a=gamma_alfa,scale=1/gamma_beta).cdf).pvalue]\n",
    "}))"
   ]
  },
  {
   "attachments": {},
   "cell_type": "markdown",
   "metadata": {},
   "source": [
    "#### Rozkład Weibulla"
   ]
  },
  {
   "attachments": {},
   "cell_type": "markdown",
   "metadata": {},
   "source": [
    "$\\hat{\\lambda}=\\left(\\frac{1}{n}\\displaystyle{\\sum_{i=1}^n}x_i^{\\hat{k}}\\right)^{\\frac{1}{\\hat{k}}}\n",
    "\\\\\n",
    "\\hat{k}=\\frac{n}{\\frac{1}{\\hat{\\lambda}}\\displaystyle{\\sum_{i=1}^{n}}x_i^{\\hat{k}}\\ln x_i-\\displaystyle{\\sum_{i=1}^{n}}\\ln x_i}$"
   ]
  },
  {
   "cell_type": "code",
   "execution_count": 23,
   "metadata": {},
   "outputs": [
    {
     "name": "stdout",
     "output_type": "stream",
     "text": [
      "0.7815037630821766 616457.6285386455\n"
     ]
    }
   ],
   "source": [
    "weibull_k = stats.weibull_min.fit(X,floc=0)[0]\n",
    "weibull_lambda = stats.weibull_min.fit(X,floc=0)[2]\n",
    "print(weibull_k,weibull_lambda)"
   ]
  },
  {
   "cell_type": "code",
   "execution_count": 24,
   "metadata": {},
   "outputs": [
    {
     "data": {
      "image/png": "[encoded data removed]",
      "text/plain": [
       "<Figure size 432x288 with 1 Axes>"
      ]
     },
     "metadata": {
      "needs_background": "light"
     },
     "output_type": "display_data"
    }
   ],
   "source": [
    "plt.hist(stats.weibull_min.rvs(c=weibull_k,scale=weibull_lambda,size=500))\n",
    "plt.show()"
   ]
  },
  {
   "cell_type": "markdown",
   "metadata": {},
   "source": [
    "Testy"
   ]
  },
  {
   "cell_type": "code",
   "execution_count": 27,
   "metadata": {},
   "outputs": [
    {
     "name": "stdout",
     "output_type": "stream",
     "text": [
      "    rozkład test  Wartość statystyki   p value\n",
      "0  Weibulla   KS                0.08  0.001437\n",
      "1  Weibulla   CM                0.51  0.037898\n"
     ]
    }
   ],
   "source": [
    "print(pd.DataFrame\n",
    "({\n",
    "    'rozkład':['Weibulla','Weibulla'],\n",
    "    'test': ['KS','CM'],\n",
    "    'Wartość statystyki' : [round(stats.kstest(X, stats.weibull_min(c=weibull_k,scale=weibull_lambda).cdf)[0],2),round(stats.cramervonmises(X, stats.weibull_min(c=weibull_k,scale=weibull_lambda).cdf).statistic,2)],\n",
    "    'p value' : [stats.kstest(X, stats.weibull_min(c=weibull_k,scale=weibull_lambda).cdf)[1],stats.cramervonmises(X, stats.weibull_min(c=weibull_k,scale=weibull_lambda).cdf).pvalue]\n",
    "}))"
   ]
  },
  {
   "attachments": {},
   "cell_type": "markdown",
   "metadata": {},
   "source": [
    "#### Rozkład Burra"
   ]
  },
  {
   "cell_type": "code",
   "execution_count": 28,
   "metadata": {},
   "outputs": [],
   "source": [
    "from scipy.special import beta"
   ]
  },
  {
   "cell_type": "code",
   "execution_count": 29,
   "metadata": {},
   "outputs": [
    {
     "name": "stdout",
     "output_type": "stream",
     "text": [
      "2.0648177120321627 0.03837002023697435\n"
     ]
    },
    {
     "name": "stderr",
     "output_type": "stream",
     "text": [
      "c:\\Users\\ndzad\\anaconda3\\lib\\site-packages\\scipy\\stats\\_distn_infrastructure.py:2606: RuntimeWarning: invalid value encountered in double_scalars\n",
      "  Lhat = muhat - Shat*mu\n"
     ]
    }
   ],
   "source": [
    "burr_c = stats.burr12.fit(X,floc=0,fscale=1)[0]\n",
    "burr_k = stats.burr12.fit(X,floc=0,fscale=1)[1]\n",
    "print(burr_c,burr_k)"
   ]
  },
  {
   "cell_type": "markdown",
   "metadata": {},
   "source": [
    "Testy"
   ]
  },
  {
   "cell_type": "code",
   "execution_count": 30,
   "metadata": {},
   "outputs": [
    {
     "name": "stdout",
     "output_type": "stream",
     "text": [
      "  rozkład test  Wartość statystyki        p value\n",
      "0   Burra   KS                0.50  1.711060e-120\n",
      "1   Burra   CM               39.67   9.296288e-09\n"
     ]
    }
   ],
   "source": [
    "print(pd.DataFrame\n",
    "({\n",
    "    'rozkład':['Burra','Burra'],\n",
    "    'test': ['KS','CM'],\n",
    "    'Wartość statystyki' : [round(stats.kstest(X, stats.burr12(c=burr_c,d=burr_k).cdf)[0],2),round(stats.cramervonmises(X, stats.burr12(c=burr_c,d=burr_k).cdf).statistic,2)],\n",
    "    'p value' : [stats.kstest(X, stats.burr12(c=burr_c,d=burr_k).cdf)[1],stats.cramervonmises(X, stats.burr12(c=burr_c,d=burr_k).cdf).pvalue]\n",
    "}))"
   ]
  }
 ],
 "metadata": {
  "kernelspec": {
   "display_name": "base",
   "language": "python",
   "name": "python3"
  },
  "language_info": {
   "codemirror_mode": {
    "name": "ipython",
    "version": 3
   },
   "file_extension": ".py",
   "mimetype": "text/x-python",
   "name": "python",
   "nbconvert_exporter": "python",
   "pygments_lexer": "ipython3",
   "version": "3.9.7"
  },
  "orig_nbformat": 4,
  "vscode": {
   "interpreter": {
    "hash": "fbce44053a392e2d3acfeeaf9c14acc950329011ff8566e096397dd8c7fd702a"
   }
  }
 },
 "nbformat": 4,
 "nbformat_minor": 2
}
