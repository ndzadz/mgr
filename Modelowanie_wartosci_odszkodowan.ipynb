{
 "cells": [
  {
   "attachments": {},
   "cell_type": "markdown",
   "metadata": {},
   "source": [
    "# Modelowanie wartości odszkodowań"
   ]
  },
  {
   "attachments": {},
   "cell_type": "markdown",
   "metadata": {},
   "source": [
    "### Estymowanie metodą estymatora największej wiarogodności"
   ]
  },
  {
   "cell_type": "code",
   "execution_count": 11,
   "metadata": {},
   "outputs": [],
   "source": [
    "import numpy as np\n",
    "import pandas as pd\n",
    "from scipy import stats"
   ]
  },
  {
   "cell_type": "code",
   "execution_count": 2,
   "metadata": {},
   "outputs": [],
   "source": [
    "data = pd.read_csv(\"https://github.com/ndzadz/mgr/blob/main/data_us_1990_2022.csv?raw=true\",encoding=\"latin1\",sep=\";\",header=0)"
   ]
  },
  {
   "cell_type": "code",
   "execution_count": 3,
   "metadata": {},
   "outputs": [],
   "source": [
    "X = data[data['Insured Damages, Adjusted (\\'000 US$)'].isna()==0]['Insured Damages, Adjusted (\\'000 US$)']"
   ]
  },
  {
   "attachments": {},
   "cell_type": "markdown",
   "metadata": {},
   "source": [
    "#### Rozkład wykładniczy"
   ]
  },
  {
   "attachments": {},
   "cell_type": "markdown",
   "metadata": {},
   "source": [
    "$\\hat{\\lambda}=\\frac{n}{\\sum\\limits_{i=1}^n x_i}$"
   ]
  },
  {
   "cell_type": "code",
   "execution_count": 4,
   "metadata": {},
   "outputs": [
    {
     "name": "stdout",
     "output_type": "stream",
     "text": [
      "5.663979168337738e-07\n"
     ]
    }
   ],
   "source": [
    "lambda_hat = len(X)/sum(X)\n",
    "print(lambda_hat)"
   ]
  },
  {
   "cell_type": "code",
   "execution_count": 23,
   "metadata": {},
   "outputs": [
    {
     "data": {
      "text/plain": [
       "0.0"
      ]
     },
     "execution_count": 23,
     "metadata": {},
     "output_type": "execute_result"
    }
   ],
   "source": [
    "exp_res = stats.kstest(X, stats.expon.cdf,args=(lambda_hat,))\n",
    "exp_res.pvalue"
   ]
  },
  {
   "attachments": {},
   "cell_type": "markdown",
   "metadata": {},
   "source": [
    "#### Rozkład lognormalny"
   ]
  },
  {
   "attachments": {},
   "cell_type": "markdown",
   "metadata": {},
   "source": [
    "$\\hat{\\mu} = \\frac{\\sum\\limits_{i=1}^n\\ln x_i}{n}\n",
    "\\\\\n",
    "\\hat{\\sigma}^2 = \\frac{\\sum\\limits_{i=1}^n\\left(\\ln x_i-\\frac{\\sum_{i=1}^n\\ln x_i}{n}\\right)^2}{n}$"
   ]
  },
  {
   "cell_type": "code",
   "execution_count": 7,
   "metadata": {},
   "outputs": [
    {
     "name": "stdout",
     "output_type": "stream",
     "text": [
      "12.822124837734474 3.0108284249081256\n"
     ]
    }
   ],
   "source": [
    "mu_hat = sum(np.log(X))/len(X)\n",
    "sigma_sq_hat = sum(np.square(np.log(X)-mu_hat))/len(X)\n",
    "print(mu_hat,sigma_sq_hat)"
   ]
  },
  {
   "cell_type": "code",
   "execution_count": 24,
   "metadata": {},
   "outputs": [
    {
     "data": {
      "text/plain": [
       "2.576379267646187e-307"
      ]
     },
     "execution_count": 24,
     "metadata": {},
     "output_type": "execute_result"
    }
   ],
   "source": [
    "lognorm_res = stats.kstest(X, stats.lognorm.cdf,args=(mu_hat,sigma_sq_hat))\n",
    "lognorm_res.pvalue"
   ]
  }
 ],
 "metadata": {
  "kernelspec": {
   "display_name": "base",
   "language": "python",
   "name": "python3"
  },
  "language_info": {
   "codemirror_mode": {
    "name": "ipython",
    "version": 3
   },
   "file_extension": ".py",
   "mimetype": "text/x-python",
   "name": "python",
   "nbconvert_exporter": "python",
   "pygments_lexer": "ipython3",
   "version": "3.9.7"
  },
  "orig_nbformat": 4
 },
 "nbformat": 4,
 "nbformat_minor": 2
}
