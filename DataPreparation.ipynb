{
 "cells": [
  {
   "cell_type": "code",
   "execution_count": 2,
   "metadata": {},
   "outputs": [],
   "source": [
    "import numpy as np\n",
    "import pandas as pd\n",
    "import datetime\n",
    "import matplotlib.pyplot as plt"
   ]
  },
  {
   "cell_type": "code",
   "execution_count": 3,
   "metadata": {},
   "outputs": [],
   "source": [
    "data = pd.read_csv(\"https://github.com/ndzadz/mgr/blob/main/data_us_1990_2022.csv?raw=true\",encoding=\"latin1\",sep=\";\",header=0)"
   ]
  },
  {
   "cell_type": "code",
   "execution_count": 4,
   "metadata": {},
   "outputs": [],
   "source": [
    "data = data.rename(columns={'ï»¿Dis No':'Dis No'})"
   ]
  },
  {
   "cell_type": "code",
   "execution_count": 5,
   "metadata": {},
   "outputs": [
    {
     "data": {
      "text/plain": [
       "Index(['Dis No', 'Year', 'Seq', 'Glide', 'Disaster Group', 'Disaster Subgroup',\n",
       "       'Disaster Type', 'Disaster Subtype', 'Disaster Subsubtype',\n",
       "       'Event Name', 'Country', 'ISO', 'Region', 'Continent', 'Location',\n",
       "       'Origin', 'Associated Dis', 'Associated Dis2', 'OFDA Response',\n",
       "       'Appeal', 'Declaration', 'AID Contribution ('000 US$)', 'Dis Mag Value',\n",
       "       'Dis Mag Scale', 'Latitude', 'Longitude', 'Local Time', 'River Basin',\n",
       "       'Start Year', 'Start Month', 'Start Day', 'End Year', 'End Month',\n",
       "       'End Day', 'Total Deaths', 'No Injured', 'No Affected', 'No Homeless',\n",
       "       'Total Affected', 'Reconstruction Costs ('000 US$)',\n",
       "       'Reconstruction Costs, Adjusted ('000 US$)',\n",
       "       'Insured Damages ('000 US$)', 'Insured Damages, Adjusted ('000 US$)',\n",
       "       'Total Damages ('000 US$)', 'Total Damages, Adjusted ('000 US$)',\n",
       "       'CPI'],\n",
       "      dtype='object')"
      ]
     },
     "execution_count": 5,
     "metadata": {},
     "output_type": "execute_result"
    }
   ],
   "source": [
    "data.columns"
   ]
  },
  {
   "cell_type": "code",
   "execution_count": 6,
   "metadata": {},
   "outputs": [
    {
     "data": {
      "text/html": [
       "<div>\n",
       "<style scoped>\n",
       "    .dataframe tbody tr th:only-of-type {\n",
       "        vertical-align: middle;\n",
       "    }\n",
       "\n",
       "    .dataframe tbody tr th {\n",
       "        vertical-align: top;\n",
       "    }\n",
       "\n",
       "    .dataframe thead th {\n",
       "        text-align: right;\n",
       "    }\n",
       "</style>\n",
       "<table border=\"1\" class=\"dataframe\">\n",
       "  <thead>\n",
       "    <tr style=\"text-align: right;\">\n",
       "      <th></th>\n",
       "      <th>Dis No</th>\n",
       "      <th>Year</th>\n",
       "      <th>Seq</th>\n",
       "      <th>Glide</th>\n",
       "      <th>Disaster Group</th>\n",
       "      <th>Disaster Subgroup</th>\n",
       "      <th>Disaster Type</th>\n",
       "      <th>Disaster Subtype</th>\n",
       "      <th>Disaster Subsubtype</th>\n",
       "      <th>Event Name</th>\n",
       "      <th>...</th>\n",
       "      <th>No Affected</th>\n",
       "      <th>No Homeless</th>\n",
       "      <th>Total Affected</th>\n",
       "      <th>Reconstruction Costs ('000 US$)</th>\n",
       "      <th>Reconstruction Costs, Adjusted ('000 US$)</th>\n",
       "      <th>Insured Damages ('000 US$)</th>\n",
       "      <th>Insured Damages, Adjusted ('000 US$)</th>\n",
       "      <th>Total Damages ('000 US$)</th>\n",
       "      <th>Total Damages, Adjusted ('000 US$)</th>\n",
       "      <th>CPI</th>\n",
       "    </tr>\n",
       "  </thead>\n",
       "  <tbody>\n",
       "    <tr>\n",
       "      <th>21</th>\n",
       "      <td>1991-0535-CAN</td>\n",
       "      <td>1991</td>\n",
       "      <td>535</td>\n",
       "      <td>NaN</td>\n",
       "      <td>Natural</td>\n",
       "      <td>Meteorological</td>\n",
       "      <td>Storm</td>\n",
       "      <td>Convective storm</td>\n",
       "      <td>Hail</td>\n",
       "      <td>NaN</td>\n",
       "      <td>...</td>\n",
       "      <td>NaN</td>\n",
       "      <td>NaN</td>\n",
       "      <td>NaN</td>\n",
       "      <td>NaN</td>\n",
       "      <td>NaN</td>\n",
       "      <td>347000.0</td>\n",
       "      <td>745649.0</td>\n",
       "      <td>500000.0</td>\n",
       "      <td>1074423.0</td>\n",
       "      <td>46.536621</td>\n",
       "    </tr>\n",
       "    <tr>\n",
       "      <th>67</th>\n",
       "      <td>1992-0024-ECU</td>\n",
       "      <td>1992</td>\n",
       "      <td>24</td>\n",
       "      <td>NaN</td>\n",
       "      <td>Natural</td>\n",
       "      <td>Hydrological</td>\n",
       "      <td>Flood</td>\n",
       "      <td>Riverine flood</td>\n",
       "      <td>NaN</td>\n",
       "      <td>NaN</td>\n",
       "      <td>...</td>\n",
       "      <td>125000.0</td>\n",
       "      <td>80000.0</td>\n",
       "      <td>205000.0</td>\n",
       "      <td>NaN</td>\n",
       "      <td>NaN</td>\n",
       "      <td>2500.0</td>\n",
       "      <td>5214.0</td>\n",
       "      <td>20000.0</td>\n",
       "      <td>41713.0</td>\n",
       "      <td>47.946130</td>\n",
       "    </tr>\n",
       "    <tr>\n",
       "      <th>76</th>\n",
       "      <td>1993-0010-CHL</td>\n",
       "      <td>1993</td>\n",
       "      <td>10</td>\n",
       "      <td>NaN</td>\n",
       "      <td>Natural</td>\n",
       "      <td>Hydrological</td>\n",
       "      <td>Flood</td>\n",
       "      <td>Riverine flood</td>\n",
       "      <td>NaN</td>\n",
       "      <td>NaN</td>\n",
       "      <td>...</td>\n",
       "      <td>1993.0</td>\n",
       "      <td>1225.0</td>\n",
       "      <td>3276.0</td>\n",
       "      <td>NaN</td>\n",
       "      <td>NaN</td>\n",
       "      <td>34000.0</td>\n",
       "      <td>68880.0</td>\n",
       "      <td>34000.0</td>\n",
       "      <td>68880.0</td>\n",
       "      <td>49.361332</td>\n",
       "    </tr>\n",
       "    <tr>\n",
       "      <th>85</th>\n",
       "      <td>1993-0012-CUB</td>\n",
       "      <td>1993</td>\n",
       "      <td>12</td>\n",
       "      <td>NaN</td>\n",
       "      <td>Natural</td>\n",
       "      <td>Meteorological</td>\n",
       "      <td>Storm</td>\n",
       "      <td>Convective storm</td>\n",
       "      <td>Winter storm/Blizzard</td>\n",
       "      <td>NaN</td>\n",
       "      <td>...</td>\n",
       "      <td>149680.0</td>\n",
       "      <td>NaN</td>\n",
       "      <td>149775.0</td>\n",
       "      <td>NaN</td>\n",
       "      <td>NaN</td>\n",
       "      <td>5000.0</td>\n",
       "      <td>10129.0</td>\n",
       "      <td>1000000.0</td>\n",
       "      <td>2025877.0</td>\n",
       "      <td>49.361332</td>\n",
       "    </tr>\n",
       "    <tr>\n",
       "      <th>93</th>\n",
       "      <td>1993-0014-ECU</td>\n",
       "      <td>1993</td>\n",
       "      <td>14</td>\n",
       "      <td>NaN</td>\n",
       "      <td>Natural</td>\n",
       "      <td>Hydrological</td>\n",
       "      <td>Landslide</td>\n",
       "      <td>Landslide</td>\n",
       "      <td>NaN</td>\n",
       "      <td>NaN</td>\n",
       "      <td>...</td>\n",
       "      <td>75000.0</td>\n",
       "      <td>NaN</td>\n",
       "      <td>75020.0</td>\n",
       "      <td>NaN</td>\n",
       "      <td>NaN</td>\n",
       "      <td>15000.0</td>\n",
       "      <td>30388.0</td>\n",
       "      <td>500000.0</td>\n",
       "      <td>1012939.0</td>\n",
       "      <td>49.361332</td>\n",
       "    </tr>\n",
       "    <tr>\n",
       "      <th>...</th>\n",
       "      <td>...</td>\n",
       "      <td>...</td>\n",
       "      <td>...</td>\n",
       "      <td>...</td>\n",
       "      <td>...</td>\n",
       "      <td>...</td>\n",
       "      <td>...</td>\n",
       "      <td>...</td>\n",
       "      <td>...</td>\n",
       "      <td>...</td>\n",
       "      <td>...</td>\n",
       "      <td>...</td>\n",
       "      <td>...</td>\n",
       "      <td>...</td>\n",
       "      <td>...</td>\n",
       "      <td>...</td>\n",
       "      <td>...</td>\n",
       "      <td>...</td>\n",
       "      <td>...</td>\n",
       "      <td>...</td>\n",
       "      <td>...</td>\n",
       "    </tr>\n",
       "    <tr>\n",
       "      <th>2846</th>\n",
       "      <td>2021-0551-USA</td>\n",
       "      <td>2021</td>\n",
       "      <td>551</td>\n",
       "      <td>NaN</td>\n",
       "      <td>Natural</td>\n",
       "      <td>Meteorological</td>\n",
       "      <td>Storm</td>\n",
       "      <td>Tropical cyclone</td>\n",
       "      <td>NaN</td>\n",
       "      <td>Tropical storm 'Ida'</td>\n",
       "      <td>...</td>\n",
       "      <td>14000.0</td>\n",
       "      <td>NaN</td>\n",
       "      <td>14000.0</td>\n",
       "      <td>NaN</td>\n",
       "      <td>NaN</td>\n",
       "      <td>36000000.0</td>\n",
       "      <td>38881008.0</td>\n",
       "      <td>65000000.0</td>\n",
       "      <td>70201819.0</td>\n",
       "      <td>92.590193</td>\n",
       "    </tr>\n",
       "    <tr>\n",
       "      <th>2854</th>\n",
       "      <td>2021-0797-USA</td>\n",
       "      <td>2021</td>\n",
       "      <td>797</td>\n",
       "      <td>NaN</td>\n",
       "      <td>Natural</td>\n",
       "      <td>Meteorological</td>\n",
       "      <td>Storm</td>\n",
       "      <td>Convective storm</td>\n",
       "      <td>Tornado</td>\n",
       "      <td>NaN</td>\n",
       "      <td>...</td>\n",
       "      <td>NaN</td>\n",
       "      <td>NaN</td>\n",
       "      <td>100.0</td>\n",
       "      <td>NaN</td>\n",
       "      <td>NaN</td>\n",
       "      <td>4000000.0</td>\n",
       "      <td>4320112.0</td>\n",
       "      <td>5200000.0</td>\n",
       "      <td>5616146.0</td>\n",
       "      <td>92.590193</td>\n",
       "    </tr>\n",
       "    <tr>\n",
       "      <th>2892</th>\n",
       "      <td>2022-0157-USA</td>\n",
       "      <td>2022</td>\n",
       "      <td>157</td>\n",
       "      <td>NaN</td>\n",
       "      <td>Natural</td>\n",
       "      <td>Meteorological</td>\n",
       "      <td>Storm</td>\n",
       "      <td>Convective storm</td>\n",
       "      <td>Tornado</td>\n",
       "      <td>NaN</td>\n",
       "      <td>...</td>\n",
       "      <td>NaN</td>\n",
       "      <td>NaN</td>\n",
       "      <td>50.0</td>\n",
       "      <td>NaN</td>\n",
       "      <td>NaN</td>\n",
       "      <td>2300000.0</td>\n",
       "      <td>2300000.0</td>\n",
       "      <td>3000000.0</td>\n",
       "      <td>3000000.0</td>\n",
       "      <td>100.000000</td>\n",
       "    </tr>\n",
       "    <tr>\n",
       "      <th>2950</th>\n",
       "      <td>2022-0614-USA</td>\n",
       "      <td>2022</td>\n",
       "      <td>614</td>\n",
       "      <td>TC-2022-000320</td>\n",
       "      <td>Natural</td>\n",
       "      <td>Meteorological</td>\n",
       "      <td>Storm</td>\n",
       "      <td>Tropical cyclone</td>\n",
       "      <td>NaN</td>\n",
       "      <td>Hurricane 'Ian'</td>\n",
       "      <td>...</td>\n",
       "      <td>NaN</td>\n",
       "      <td>NaN</td>\n",
       "      <td>NaN</td>\n",
       "      <td>NaN</td>\n",
       "      <td>NaN</td>\n",
       "      <td>60000000.0</td>\n",
       "      <td>60000000.0</td>\n",
       "      <td>100000000.0</td>\n",
       "      <td>100000000.0</td>\n",
       "      <td>100.000000</td>\n",
       "    </tr>\n",
       "    <tr>\n",
       "      <th>2961</th>\n",
       "      <td>2022-0193-USA</td>\n",
       "      <td>2022</td>\n",
       "      <td>193</td>\n",
       "      <td>NaN</td>\n",
       "      <td>Natural</td>\n",
       "      <td>Meteorological</td>\n",
       "      <td>Storm</td>\n",
       "      <td>Convective storm</td>\n",
       "      <td>Tornado</td>\n",
       "      <td>NaN</td>\n",
       "      <td>...</td>\n",
       "      <td>NaN</td>\n",
       "      <td>NaN</td>\n",
       "      <td>NaN</td>\n",
       "      <td>NaN</td>\n",
       "      <td>NaN</td>\n",
       "      <td>2500000.0</td>\n",
       "      <td>2500000.0</td>\n",
       "      <td>3200000.0</td>\n",
       "      <td>3200000.0</td>\n",
       "      <td>100.000000</td>\n",
       "    </tr>\n",
       "  </tbody>\n",
       "</table>\n",
       "<p>540 rows × 46 columns</p>\n",
       "</div>"
      ],
      "text/plain": [
       "             Dis No  Year  Seq           Glide Disaster Group  \\\n",
       "21    1991-0535-CAN  1991  535             NaN        Natural   \n",
       "67    1992-0024-ECU  1992   24             NaN        Natural   \n",
       "76    1993-0010-CHL  1993   10             NaN        Natural   \n",
       "85    1993-0012-CUB  1993   12             NaN        Natural   \n",
       "93    1993-0014-ECU  1993   14             NaN        Natural   \n",
       "...             ...   ...  ...             ...            ...   \n",
       "2846  2021-0551-USA  2021  551             NaN        Natural   \n",
       "2854  2021-0797-USA  2021  797             NaN        Natural   \n",
       "2892  2022-0157-USA  2022  157             NaN        Natural   \n",
       "2950  2022-0614-USA  2022  614  TC-2022-000320        Natural   \n",
       "2961  2022-0193-USA  2022  193             NaN        Natural   \n",
       "\n",
       "     Disaster Subgroup Disaster Type  Disaster Subtype    Disaster Subsubtype  \\\n",
       "21      Meteorological         Storm  Convective storm                   Hail   \n",
       "67        Hydrological         Flood    Riverine flood                    NaN   \n",
       "76        Hydrological         Flood    Riverine flood                    NaN   \n",
       "85      Meteorological         Storm  Convective storm  Winter storm/Blizzard   \n",
       "93        Hydrological     Landslide         Landslide                    NaN   \n",
       "...                ...           ...               ...                    ...   \n",
       "2846    Meteorological         Storm  Tropical cyclone                    NaN   \n",
       "2854    Meteorological         Storm  Convective storm                Tornado   \n",
       "2892    Meteorological         Storm  Convective storm                Tornado   \n",
       "2950    Meteorological         Storm  Tropical cyclone                    NaN   \n",
       "2961    Meteorological         Storm  Convective storm                Tornado   \n",
       "\n",
       "                Event Name  ... No Affected No Homeless Total Affected  \\\n",
       "21                     NaN  ...         NaN         NaN            NaN   \n",
       "67                     NaN  ...    125000.0     80000.0       205000.0   \n",
       "76                     NaN  ...      1993.0      1225.0         3276.0   \n",
       "85                     NaN  ...    149680.0         NaN       149775.0   \n",
       "93                     NaN  ...     75000.0         NaN        75020.0   \n",
       "...                    ...  ...         ...         ...            ...   \n",
       "2846  Tropical storm 'Ida'  ...     14000.0         NaN        14000.0   \n",
       "2854                   NaN  ...         NaN         NaN          100.0   \n",
       "2892                   NaN  ...         NaN         NaN           50.0   \n",
       "2950       Hurricane 'Ian'  ...         NaN         NaN            NaN   \n",
       "2961                   NaN  ...         NaN         NaN            NaN   \n",
       "\n",
       "     Reconstruction Costs ('000 US$)  \\\n",
       "21                               NaN   \n",
       "67                               NaN   \n",
       "76                               NaN   \n",
       "85                               NaN   \n",
       "93                               NaN   \n",
       "...                              ...   \n",
       "2846                             NaN   \n",
       "2854                             NaN   \n",
       "2892                             NaN   \n",
       "2950                             NaN   \n",
       "2961                             NaN   \n",
       "\n",
       "     Reconstruction Costs, Adjusted ('000 US$) Insured Damages ('000 US$)  \\\n",
       "21                                         NaN                   347000.0   \n",
       "67                                         NaN                     2500.0   \n",
       "76                                         NaN                    34000.0   \n",
       "85                                         NaN                     5000.0   \n",
       "93                                         NaN                    15000.0   \n",
       "...                                        ...                        ...   \n",
       "2846                                       NaN                 36000000.0   \n",
       "2854                                       NaN                  4000000.0   \n",
       "2892                                       NaN                  2300000.0   \n",
       "2950                                       NaN                 60000000.0   \n",
       "2961                                       NaN                  2500000.0   \n",
       "\n",
       "     Insured Damages, Adjusted ('000 US$) Total Damages ('000 US$)  \\\n",
       "21                               745649.0                 500000.0   \n",
       "67                                 5214.0                  20000.0   \n",
       "76                                68880.0                  34000.0   \n",
       "85                                10129.0                1000000.0   \n",
       "93                                30388.0                 500000.0   \n",
       "...                                   ...                      ...   \n",
       "2846                           38881008.0               65000000.0   \n",
       "2854                            4320112.0                5200000.0   \n",
       "2892                            2300000.0                3000000.0   \n",
       "2950                           60000000.0              100000000.0   \n",
       "2961                            2500000.0                3200000.0   \n",
       "\n",
       "     Total Damages, Adjusted ('000 US$)         CPI  \n",
       "21                            1074423.0   46.536621  \n",
       "67                              41713.0   47.946130  \n",
       "76                              68880.0   49.361332  \n",
       "85                            2025877.0   49.361332  \n",
       "93                            1012939.0   49.361332  \n",
       "...                                 ...         ...  \n",
       "2846                         70201819.0   92.590193  \n",
       "2854                          5616146.0   92.590193  \n",
       "2892                          3000000.0  100.000000  \n",
       "2950                        100000000.0  100.000000  \n",
       "2961                          3200000.0  100.000000  \n",
       "\n",
       "[540 rows x 46 columns]"
      ]
     },
     "execution_count": 6,
     "metadata": {},
     "output_type": "execute_result"
    }
   ],
   "source": [
    "data[data['Insured Damages (\\'000 US$)'].isna()==0]"
   ]
  },
  {
   "attachments": {},
   "cell_type": "markdown",
   "metadata": {},
   "source": [
    "Liczba zdarzeń w każdym roku"
   ]
  },
  {
   "cell_type": "code",
   "execution_count": 7,
   "metadata": {},
   "outputs": [
    {
     "data": {
      "text/plain": [
       "Year\n",
       "1990     68\n",
       "1991     83\n",
       "1992     77\n",
       "1993     77\n",
       "1994     52\n",
       "1995     95\n",
       "1996     65\n",
       "1997     82\n",
       "1998    103\n",
       "1999     93\n",
       "2000    101\n",
       "2001     95\n",
       "2002    118\n",
       "2003     89\n",
       "2004     89\n",
       "2005     94\n",
       "2006     75\n",
       "2007    103\n",
       "2008    102\n",
       "2009     84\n",
       "2010    111\n",
       "2011     97\n",
       "2012     84\n",
       "2013     79\n",
       "2014     80\n",
       "2015     94\n",
       "2016     85\n",
       "2017    101\n",
       "2018     68\n",
       "2019     88\n",
       "2020     92\n",
       "2021    130\n",
       "2022    119\n",
       "Name: Dis No, dtype: int64"
      ]
     },
     "execution_count": 7,
     "metadata": {},
     "output_type": "execute_result"
    }
   ],
   "source": [
    "data.groupby(\"Year\").count()['Dis No']"
   ]
  },
  {
   "attachments": {},
   "cell_type": "markdown",
   "metadata": {},
   "source": [
    "Liczba wypłaconych odszkodowań"
   ]
  },
  {
   "cell_type": "code",
   "execution_count": 8,
   "metadata": {},
   "outputs": [
    {
     "data": {
      "image/png": "[encoded data removed]",
      "text/plain": [
       "<Figure size 432x288 with 1 Axes>"
      ]
     },
     "metadata": {
      "needs_background": "light"
     },
     "output_type": "display_data"
    }
   ],
   "source": [
    "plt.plot(data.groupby(\"Year\").count()[\"Dis No\"], linestyle= '-',marker='o')\n",
    "plt.xlabel(\"Rok\")\n",
    "plt.ylabel(\"Liczba zdarzeń\")\n",
    "plt.savefig(\"C:\\\\Users\\\\ndzad\\\\Dropbox\\\\MINI\\\\Magisterka\\\\repo\\\\mgr\\\\Rysunki\\\\no_tot.pdf\")\n",
    "plt.show()"
   ]
  },
  {
   "cell_type": "code",
   "execution_count": 9,
   "metadata": {},
   "outputs": [
    {
     "data": {
      "image/png": "[encoded data removed]",
      "text/plain": [
       "<Figure size 432x288 with 1 Axes>"
      ]
     },
     "metadata": {
      "needs_background": "light"
     },
     "output_type": "display_data"
    }
   ],
   "source": [
    "plt.plot(data[data['Insured Damages (\\'000 US$)'].isna()==0].groupby(\"Year\").count()[\"Dis No\"], linestyle= '-',marker='o')\n",
    "plt.xlabel(\"Rok\")\n",
    "plt.ylabel(\"Liczba zdarzeń\")\n",
    "plt.savefig(\"C:\\\\Users\\\\ndzad\\\\Dropbox\\\\MINI\\\\Magisterka\\\\repo\\\\mgr\\\\Rysunki\\\\no_tot_dam.pdf\")\n",
    "plt.show()"
   ]
  },
  {
   "attachments": {},
   "cell_type": "markdown",
   "metadata": {},
   "source": [
    "Wartość wypłaconych odszkodowań"
   ]
  },
  {
   "cell_type": "code",
   "execution_count": 10,
   "metadata": {},
   "outputs": [
    {
     "data": {
      "image/png": "[encoded data removed]",
      "text/plain": [
       "<Figure size 432x288 with 1 Axes>"
      ]
     },
     "metadata": {
      "needs_background": "light"
     },
     "output_type": "display_data"
    }
   ],
   "source": [
    "plt.hist(data[data['Insured Damages (\\'000 US$)'].isna()==0]['Insured Damages (\\'000 US$)'],bins=50)\n",
    "plt.xlabel(\"Wypłacone odszkodowanie (w tys. $)\")\n",
    "plt.ylabel(\"Liczba\")\n",
    "plt.grid(color='C0', linestyle='-', linewidth=0.2)\n",
    "ax = plt.gca()\n",
    "ax.set_xlim(left=0)\n",
    "#ax.set_yticks(np.linspace(1,11,num=11))\n",
    "plt.savefig(\"C:\\\\Users\\\\ndzad\\\\Dropbox\\\\MINI\\\\Magisterka\\\\repo\\\\mgr\\\\Rysunki\\\\exp_tot_dam.pdf\")\n",
    "plt.show()"
   ]
  },
  {
   "cell_type": "code",
   "execution_count": 11,
   "metadata": {},
   "outputs": [
    {
     "data": {
      "image/png": "[encoded data removed]",
      "text/plain": [
       "<Figure size 432x288 with 1 Axes>"
      ]
     },
     "metadata": {
      "needs_background": "light"
     },
     "output_type": "display_data"
    }
   ],
   "source": [
    "plt.hist(data[data['Insured Damages, Adjusted (\\'000 US$)'].isna()==0][\"Insured Damages, Adjusted (\\'000 US$)\"],bins=50)\n",
    "plt.xlabel(\"Wypłacone odszkodowanie (w tys. $)\")\n",
    "plt.ylabel(\"Liczba\")\n",
    "plt.grid(color='C0', linestyle='-', linewidth=0.2)\n",
    "ax = plt.gca()\n",
    "ax.set_xlim(left=0)\n",
    "#ax.set_yticks(np.linspace(1,16,num=16))\n",
    "plt.savefig(\"C:\\\\Users\\\\ndzad\\\\Dropbox\\\\MINI\\\\Magisterka\\\\repo\\\\mgr\\\\Rysunki\\\\expadj_tot_dam.pdf\")\n",
    "plt.show()"
   ]
  },
  {
   "attachments": {},
   "cell_type": "markdown",
   "metadata": {},
   "source": [
    "Z usuniętymi outlierami"
   ]
  },
  {
   "cell_type": "code",
   "execution_count": 12,
   "metadata": {},
   "outputs": [
    {
     "data": {
      "text/plain": [
       "4904999.999999995"
      ]
     },
     "execution_count": 12,
     "metadata": {},
     "output_type": "execute_result"
    }
   ],
   "source": [
    "p95 = np.percentile(data[data['Insured Damages (\\'000 US$)'].isna()==0]['Insured Damages (\\'000 US$)'],95)\n",
    "p95"
   ]
  },
  {
   "cell_type": "code",
   "execution_count": 15,
   "metadata": {},
   "outputs": [
    {
     "data": {
      "image/png": "[encoded data removed]",
      "text/plain": [
       "<Figure size 432x288 with 1 Axes>"
      ]
     },
     "metadata": {
      "needs_background": "light"
     },
     "output_type": "display_data"
    }
   ],
   "source": [
    "plt.hist(data[(data['Insured Damages (\\'000 US$)'].isna()==0)&(data['Insured Damages (\\'000 US$)']<p95)]['Insured Damages (\\'000 US$)'],bins=50)\n",
    "plt.xlabel(\"Wypłacone odszkodowanie (w tys. $)\")\n",
    "plt.ylabel(\"Liczba\")\n",
    "plt.grid(color='C0', linestyle='-', linewidth=0.2)\n",
    "ax = plt.gca()\n",
    "ax.set_xlim(left=0)\n",
    "#ax.set_yticks(np.linspace(1,11,num=11))\n",
    "plt.savefig(\"C:\\\\Users\\\\ndzad\\\\Dropbox\\\\MINI\\\\Magisterka\\\\repo\\\\mgr\\\\Rysunki\\\\exp_tot_dam_without_outliers.pdf\")\n",
    "plt.show()"
   ]
  },
  {
   "cell_type": "code",
   "execution_count": 69,
   "metadata": {},
   "outputs": [
    {
     "data": {
      "text/plain": [
       "5786907.8999999985"
      ]
     },
     "execution_count": 69,
     "metadata": {},
     "output_type": "execute_result"
    }
   ],
   "source": [
    "p95 = np.percentile(data[data[\"Insured Damages, Adjusted (\\'000 US$)\"].isna()==0][\"Insured Damages, Adjusted (\\'000 US$)\"],95)\n",
    "p95"
   ]
  },
  {
   "cell_type": "code",
   "execution_count": 17,
   "metadata": {},
   "outputs": [
    {
     "data": {
      "image/png": "[encoded data removed]",
      "text/plain": [
       "<Figure size 432x288 with 1 Axes>"
      ]
     },
     "metadata": {
      "needs_background": "light"
     },
     "output_type": "display_data"
    }
   ],
   "source": [
    "plt.hist(data[(data[\"Insured Damages, Adjusted (\\'000 US$)\"].isna()==0)&(data[\"Insured Damages, Adjusted (\\'000 US$)\"]<p95)][\"Insured Damages, Adjusted (\\'000 US$)\"],bins=50)\n",
    "plt.xlabel(\"Wypłacone odszkodowanie (w tys. $)\")\n",
    "plt.ylabel(\"Liczba\")\n",
    "plt.grid(color='C0', linestyle='-', linewidth=0.2)\n",
    "ax = plt.gca()\n",
    "ax.set_xlim(left=0)\n",
    "#ax.set_yticks(np.linspace(1,16,num=16))\n",
    "plt.savefig(\"C:\\\\Users\\\\ndzad\\\\Dropbox\\\\MINI\\\\Magisterka\\\\repo\\\\mgr\\\\Rysunki\\\\expadj_tot_dam_without_outliers.pdf\")\n",
    "plt.show()"
   ]
  },
  {
   "cell_type": "code",
   "execution_count": 16,
   "metadata": {},
   "outputs": [],
   "source": [
    "data_wo = data[(data[\"Insured Damages, Adjusted (\\'000 US$)\"].isna()==0)&(data[\"Insured Damages, Adjusted (\\'000 US$)\"]<p95)]"
   ]
  }
 ],
 "metadata": {
  "kernelspec": {
   "display_name": "Python 3.9.7 ('base')",
   "language": "python",
   "name": "python3"
  },
  "language_info": {
   "codemirror_mode": {
    "name": "ipython",
    "version": 3
   },
   "file_extension": ".py",
   "mimetype": "text/x-python",
   "name": "python",
   "nbconvert_exporter": "python",
   "pygments_lexer": "ipython3",
   "version": "3.9.7"
  },
  "orig_nbformat": 4,
  "vscode": {
   "interpreter": {
    "hash": "fbce44053a392e2d3acfeeaf9c14acc950329011ff8566e096397dd8c7fd702a"
   }
  }
 },
 "nbformat": 4,
 "nbformat_minor": 2
}
