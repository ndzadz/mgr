{
 "cells": [
  {
   "cell_type": "code",
   "execution_count": 12,
   "metadata": {},
   "outputs": [],
   "source": [
    "import numpy as np\n",
    "import pandas as pd\n",
    "import scipy.stats\n",
    "import scipy.special"
   ]
  },
  {
   "cell_type": "code",
   "execution_count": 2,
   "metadata": {},
   "outputs": [],
   "source": [
    "import matplotlib.pyplot as plt"
   ]
  },
  {
   "cell_type": "code",
   "execution_count": 4,
   "metadata": {},
   "outputs": [],
   "source": [
    "data = pd.read_csv(r\"C:\\Users\\ndzad\\Dropbox\\MINI\\Magisterka\\data.csv\",encoding='latin1',sep=\";\",header=0)"
   ]
  },
  {
   "cell_type": "code",
   "execution_count": 13,
   "metadata": {},
   "outputs": [
    {
     "data": {
      "text/plain": [
       "Index(['Dis No', 'Year', 'Seq', 'Glide', 'Disaster Group', 'Disaster Subgroup',\n",
       "       'Disaster Type', 'Disaster Subtype', 'Disaster Subsubtype',\n",
       "       'Event Name', 'Country', 'ISO', 'Region', 'Continent', 'Location',\n",
       "       'Origin', 'Associated Dis', 'Associated Dis2', 'OFDA Response',\n",
       "       'Appeal', 'Declaration', 'AID Contribution ('000 US$)', 'Dis Mag Value',\n",
       "       'Dis Mag Scale', 'Latitude', 'Longitude', 'Local Time', 'River Basin',\n",
       "       'Start Year', 'Start Month', 'Start Day', 'End Year', 'End Month',\n",
       "       'End Day', 'Total Deaths', 'No Injured', 'No Affected', 'No Homeless',\n",
       "       'Total Affected', 'Reconstruction Costs ('000 US$)',\n",
       "       'Reconstruction Costs, Adjusted ('000 US$)',\n",
       "       'Insured Damages ('000 US$)', 'Insured Damages, Adjusted ('000 US$)',\n",
       "       'Total Damages ('000 US$)', 'Total Damages, Adjusted ('000 US$)', 'CPI',\n",
       "       'Adm Level', 'Admin1 Code', 'Admin2 Code', 'Geo Locations'],\n",
       "      dtype='object')"
      ]
     },
     "execution_count": 13,
     "metadata": {},
     "output_type": "execute_result"
    }
   ],
   "source": [
    "data.columns"
   ]
  },
  {
   "cell_type": "code",
   "execution_count": 3,
   "metadata": {},
   "outputs": [
    {
     "data": {
      "text/html": [
       "<div>\n",
       "<style scoped>\n",
       "    .dataframe tbody tr th:only-of-type {\n",
       "        vertical-align: middle;\n",
       "    }\n",
       "\n",
       "    .dataframe tbody tr th {\n",
       "        vertical-align: top;\n",
       "    }\n",
       "\n",
       "    .dataframe thead th {\n",
       "        text-align: right;\n",
       "    }\n",
       "</style>\n",
       "<table border=\"1\" class=\"dataframe\">\n",
       "  <thead>\n",
       "    <tr style=\"text-align: right;\">\n",
       "      <th></th>\n",
       "      <th>Dis No</th>\n",
       "      <th>Year</th>\n",
       "      <th>Seq</th>\n",
       "      <th>Glide</th>\n",
       "      <th>Disaster Group</th>\n",
       "      <th>Disaster Subgroup</th>\n",
       "      <th>Disaster Type</th>\n",
       "      <th>Disaster Subtype</th>\n",
       "      <th>Disaster Subsubtype</th>\n",
       "      <th>Event Name</th>\n",
       "      <th>...</th>\n",
       "      <th>Reconstruction Costs, Adjusted ('000 US$)</th>\n",
       "      <th>Insured Damages ('000 US$)</th>\n",
       "      <th>Insured Damages, Adjusted ('000 US$)</th>\n",
       "      <th>Total Damages ('000 US$)</th>\n",
       "      <th>Total Damages, Adjusted ('000 US$)</th>\n",
       "      <th>CPI</th>\n",
       "      <th>Adm Level</th>\n",
       "      <th>Admin1 Code</th>\n",
       "      <th>Admin2 Code</th>\n",
       "      <th>Geo Locations</th>\n",
       "    </tr>\n",
       "  </thead>\n",
       "  <tbody>\n",
       "    <tr>\n",
       "      <th>0</th>\n",
       "      <td>1990-0361-AUT</td>\n",
       "      <td>1990</td>\n",
       "      <td>361</td>\n",
       "      <td>NaN</td>\n",
       "      <td>Natural</td>\n",
       "      <td>Meteorological</td>\n",
       "      <td>Storm</td>\n",
       "      <td>Convective storm</td>\n",
       "      <td>Severe storm</td>\n",
       "      <td>NaN</td>\n",
       "      <td>...</td>\n",
       "      <td>NaN</td>\n",
       "      <td>28200.0</td>\n",
       "      <td>58483.0</td>\n",
       "      <td>NaN</td>\n",
       "      <td>NaN</td>\n",
       "      <td>48,21879729</td>\n",
       "      <td>NaN</td>\n",
       "      <td>NaN</td>\n",
       "      <td>NaN</td>\n",
       "      <td>NaN</td>\n",
       "    </tr>\n",
       "    <tr>\n",
       "      <th>1</th>\n",
       "      <td>1990-0376-AUT</td>\n",
       "      <td>1990</td>\n",
       "      <td>376</td>\n",
       "      <td>NaN</td>\n",
       "      <td>Natural</td>\n",
       "      <td>Meteorological</td>\n",
       "      <td>Storm</td>\n",
       "      <td>Convective storm</td>\n",
       "      <td>Severe storm</td>\n",
       "      <td>NaN</td>\n",
       "      <td>...</td>\n",
       "      <td>NaN</td>\n",
       "      <td>37700.0</td>\n",
       "      <td>78185.0</td>\n",
       "      <td>NaN</td>\n",
       "      <td>NaN</td>\n",
       "      <td>48,21879729</td>\n",
       "      <td>NaN</td>\n",
       "      <td>NaN</td>\n",
       "      <td>NaN</td>\n",
       "      <td>NaN</td>\n",
       "    </tr>\n",
       "    <tr>\n",
       "      <th>3</th>\n",
       "      <td>1990-0722-AUT</td>\n",
       "      <td>1990</td>\n",
       "      <td>722</td>\n",
       "      <td>NaN</td>\n",
       "      <td>Natural</td>\n",
       "      <td>Meteorological</td>\n",
       "      <td>Storm</td>\n",
       "      <td>NaN</td>\n",
       "      <td>NaN</td>\n",
       "      <td>Vivian</td>\n",
       "      <td>...</td>\n",
       "      <td>NaN</td>\n",
       "      <td>80000.0</td>\n",
       "      <td>165910.0</td>\n",
       "      <td>120000.0</td>\n",
       "      <td>248866.0</td>\n",
       "      <td>48,21879729</td>\n",
       "      <td>NaN</td>\n",
       "      <td>NaN</td>\n",
       "      <td>NaN</td>\n",
       "      <td>NaN</td>\n",
       "    </tr>\n",
       "    <tr>\n",
       "      <th>4</th>\n",
       "      <td>1990-0723-AUT</td>\n",
       "      <td>1990</td>\n",
       "      <td>723</td>\n",
       "      <td>NaN</td>\n",
       "      <td>Natural</td>\n",
       "      <td>Meteorological</td>\n",
       "      <td>Storm</td>\n",
       "      <td>NaN</td>\n",
       "      <td>NaN</td>\n",
       "      <td>Wiebke</td>\n",
       "      <td>...</td>\n",
       "      <td>NaN</td>\n",
       "      <td>80000.0</td>\n",
       "      <td>165910.0</td>\n",
       "      <td>120000.0</td>\n",
       "      <td>248866.0</td>\n",
       "      <td>48,21879729</td>\n",
       "      <td>NaN</td>\n",
       "      <td>NaN</td>\n",
       "      <td>NaN</td>\n",
       "      <td>NaN</td>\n",
       "    </tr>\n",
       "    <tr>\n",
       "      <th>5</th>\n",
       "      <td>1990-0717-BEL</td>\n",
       "      <td>1990</td>\n",
       "      <td>717</td>\n",
       "      <td>NaN</td>\n",
       "      <td>Natural</td>\n",
       "      <td>Meteorological</td>\n",
       "      <td>Storm</td>\n",
       "      <td>NaN</td>\n",
       "      <td>NaN</td>\n",
       "      <td>Daria</td>\n",
       "      <td>...</td>\n",
       "      <td>NaN</td>\n",
       "      <td>250000.0</td>\n",
       "      <td>518470.0</td>\n",
       "      <td>350000.0</td>\n",
       "      <td>725858.0</td>\n",
       "      <td>48,21879729</td>\n",
       "      <td>NaN</td>\n",
       "      <td>NaN</td>\n",
       "      <td>NaN</td>\n",
       "      <td>NaN</td>\n",
       "    </tr>\n",
       "    <tr>\n",
       "      <th>...</th>\n",
       "      <td>...</td>\n",
       "      <td>...</td>\n",
       "      <td>...</td>\n",
       "      <td>...</td>\n",
       "      <td>...</td>\n",
       "      <td>...</td>\n",
       "      <td>...</td>\n",
       "      <td>...</td>\n",
       "      <td>...</td>\n",
       "      <td>...</td>\n",
       "      <td>...</td>\n",
       "      <td>...</td>\n",
       "      <td>...</td>\n",
       "      <td>...</td>\n",
       "      <td>...</td>\n",
       "      <td>...</td>\n",
       "      <td>...</td>\n",
       "      <td>...</td>\n",
       "      <td>...</td>\n",
       "      <td>...</td>\n",
       "      <td>...</td>\n",
       "    </tr>\n",
       "    <tr>\n",
       "      <th>2441</th>\n",
       "      <td>2021-0096-USA</td>\n",
       "      <td>2021</td>\n",
       "      <td>96</td>\n",
       "      <td>NaN</td>\n",
       "      <td>Natural</td>\n",
       "      <td>Meteorological</td>\n",
       "      <td>Storm</td>\n",
       "      <td>Convective storm</td>\n",
       "      <td>Winter storm/Blizzard</td>\n",
       "      <td>NaN</td>\n",
       "      <td>...</td>\n",
       "      <td>NaN</td>\n",
       "      <td>15000000.0</td>\n",
       "      <td>15000000.0</td>\n",
       "      <td>30000000.0</td>\n",
       "      <td>30000000.0</td>\n",
       "      <td>100</td>\n",
       "      <td>1</td>\n",
       "      <td>3217;3219;3227;3231;3232;3238;3239;3241;3247;3...</td>\n",
       "      <td>NaN</td>\n",
       "      <td>Arkansas, Colorado, Illinois, Kentucky, Louisi...</td>\n",
       "    </tr>\n",
       "    <tr>\n",
       "      <th>2449</th>\n",
       "      <td>2021-0551-USA</td>\n",
       "      <td>2021</td>\n",
       "      <td>551</td>\n",
       "      <td>NaN</td>\n",
       "      <td>Natural</td>\n",
       "      <td>Meteorological</td>\n",
       "      <td>Storm</td>\n",
       "      <td>Tropical cyclone</td>\n",
       "      <td>NaN</td>\n",
       "      <td>Tropical storm 'Ida'</td>\n",
       "      <td>...</td>\n",
       "      <td>NaN</td>\n",
       "      <td>36000000.0</td>\n",
       "      <td>36000000.0</td>\n",
       "      <td>65000000.0</td>\n",
       "      <td>65000000.0</td>\n",
       "      <td>100</td>\n",
       "      <td>1</td>\n",
       "      <td>3220;3221;3232;3234;3244;3246;3252;3260</td>\n",
       "      <td>NaN</td>\n",
       "      <td>Connecticut, Delaware, Louisiana, Maryland, Ne...</td>\n",
       "    </tr>\n",
       "    <tr>\n",
       "      <th>2463</th>\n",
       "      <td>2021-0797-USA</td>\n",
       "      <td>2021</td>\n",
       "      <td>797</td>\n",
       "      <td>NaN</td>\n",
       "      <td>Natural</td>\n",
       "      <td>Meteorological</td>\n",
       "      <td>Storm</td>\n",
       "      <td>Convective storm</td>\n",
       "      <td>Tornado</td>\n",
       "      <td>NaN</td>\n",
       "      <td>...</td>\n",
       "      <td>NaN</td>\n",
       "      <td>4000000.0</td>\n",
       "      <td>4000000.0</td>\n",
       "      <td>5200000.0</td>\n",
       "      <td>5200000.0</td>\n",
       "      <td>100</td>\n",
       "      <td>1;2</td>\n",
       "      <td>3236;3263</td>\n",
       "      <td>28805;28836;28845;29329;29687;29712;29724;2975...</td>\n",
       "      <td>Michigan, Wisconsin (Adm1). Caldwell, Craighea...</td>\n",
       "    </tr>\n",
       "    <tr>\n",
       "      <th>2509</th>\n",
       "      <td>2022-0157-USA</td>\n",
       "      <td>2022</td>\n",
       "      <td>157</td>\n",
       "      <td>NaN</td>\n",
       "      <td>Natural</td>\n",
       "      <td>Meteorological</td>\n",
       "      <td>Storm</td>\n",
       "      <td>Convective storm</td>\n",
       "      <td>Tornado</td>\n",
       "      <td>NaN</td>\n",
       "      <td>...</td>\n",
       "      <td>NaN</td>\n",
       "      <td>2300000.0</td>\n",
       "      <td>NaN</td>\n",
       "      <td>3000000.0</td>\n",
       "      <td>NaN</td>\n",
       "      <td>NaN</td>\n",
       "      <td>1;2</td>\n",
       "      <td>3247;3249;3250;3254</td>\n",
       "      <td>28694;28701;28743;28748;28751;30079;30082;3009...</td>\n",
       "      <td>North Carolina, Ohio, Oklahoma, South Carolina...</td>\n",
       "    </tr>\n",
       "    <tr>\n",
       "      <th>2519</th>\n",
       "      <td>2022-0193-USA</td>\n",
       "      <td>2022</td>\n",
       "      <td>193</td>\n",
       "      <td>NaN</td>\n",
       "      <td>Natural</td>\n",
       "      <td>Meteorological</td>\n",
       "      <td>Storm</td>\n",
       "      <td>Convective storm</td>\n",
       "      <td>Tornado</td>\n",
       "      <td>NaN</td>\n",
       "      <td>...</td>\n",
       "      <td>NaN</td>\n",
       "      <td>2500000.0</td>\n",
       "      <td>NaN</td>\n",
       "      <td>3200000.0</td>\n",
       "      <td>NaN</td>\n",
       "      <td>NaN</td>\n",
       "      <td>2</td>\n",
       "      <td>NaN</td>\n",
       "      <td>28736;29076;29140;29152;30094;30111;30116;3012...</td>\n",
       "      <td>Allendale, Bleckley, Collin, Covington, Dallas...</td>\n",
       "    </tr>\n",
       "  </tbody>\n",
       "</table>\n",
       "<p>672 rows × 50 columns</p>\n",
       "</div>"
      ],
      "text/plain": [
       "             Dis No  Year  Seq Glide Disaster Group Disaster Subgroup  \\\n",
       "0     1990-0361-AUT  1990  361   NaN        Natural    Meteorological   \n",
       "1     1990-0376-AUT  1990  376   NaN        Natural    Meteorological   \n",
       "3     1990-0722-AUT  1990  722   NaN        Natural    Meteorological   \n",
       "4     1990-0723-AUT  1990  723   NaN        Natural    Meteorological   \n",
       "5     1990-0717-BEL  1990  717   NaN        Natural    Meteorological   \n",
       "...             ...   ...  ...   ...            ...               ...   \n",
       "2441  2021-0096-USA  2021   96   NaN        Natural    Meteorological   \n",
       "2449  2021-0551-USA  2021  551   NaN        Natural    Meteorological   \n",
       "2463  2021-0797-USA  2021  797   NaN        Natural    Meteorological   \n",
       "2509  2022-0157-USA  2022  157   NaN        Natural    Meteorological   \n",
       "2519  2022-0193-USA  2022  193   NaN        Natural    Meteorological   \n",
       "\n",
       "     Disaster Type  Disaster Subtype    Disaster Subsubtype  \\\n",
       "0            Storm  Convective storm           Severe storm   \n",
       "1            Storm  Convective storm           Severe storm   \n",
       "3            Storm               NaN                    NaN   \n",
       "4            Storm               NaN                    NaN   \n",
       "5            Storm               NaN                    NaN   \n",
       "...            ...               ...                    ...   \n",
       "2441         Storm  Convective storm  Winter storm/Blizzard   \n",
       "2449         Storm  Tropical cyclone                    NaN   \n",
       "2463         Storm  Convective storm                Tornado   \n",
       "2509         Storm  Convective storm                Tornado   \n",
       "2519         Storm  Convective storm                Tornado   \n",
       "\n",
       "                Event Name  ... Reconstruction Costs, Adjusted ('000 US$)  \\\n",
       "0                      NaN  ...                                       NaN   \n",
       "1                      NaN  ...                                       NaN   \n",
       "3                   Vivian  ...                                       NaN   \n",
       "4                   Wiebke  ...                                       NaN   \n",
       "5                    Daria  ...                                       NaN   \n",
       "...                    ...  ...                                       ...   \n",
       "2441                   NaN  ...                                       NaN   \n",
       "2449  Tropical storm 'Ida'  ...                                       NaN   \n",
       "2463                   NaN  ...                                       NaN   \n",
       "2509                   NaN  ...                                       NaN   \n",
       "2519                   NaN  ...                                       NaN   \n",
       "\n",
       "     Insured Damages ('000 US$) Insured Damages, Adjusted ('000 US$)  \\\n",
       "0                       28200.0                              58483.0   \n",
       "1                       37700.0                              78185.0   \n",
       "3                       80000.0                             165910.0   \n",
       "4                       80000.0                             165910.0   \n",
       "5                      250000.0                             518470.0   \n",
       "...                         ...                                  ...   \n",
       "2441                 15000000.0                           15000000.0   \n",
       "2449                 36000000.0                           36000000.0   \n",
       "2463                  4000000.0                            4000000.0   \n",
       "2509                  2300000.0                                  NaN   \n",
       "2519                  2500000.0                                  NaN   \n",
       "\n",
       "     Total Damages ('000 US$) Total Damages, Adjusted ('000 US$)          CPI  \\\n",
       "0                         NaN                                NaN  48,21879729   \n",
       "1                         NaN                                NaN  48,21879729   \n",
       "3                    120000.0                           248866.0  48,21879729   \n",
       "4                    120000.0                           248866.0  48,21879729   \n",
       "5                    350000.0                           725858.0  48,21879729   \n",
       "...                       ...                                ...          ...   \n",
       "2441               30000000.0                         30000000.0          100   \n",
       "2449               65000000.0                         65000000.0          100   \n",
       "2463                5200000.0                          5200000.0          100   \n",
       "2509                3000000.0                                NaN          NaN   \n",
       "2519                3200000.0                                NaN          NaN   \n",
       "\n",
       "     Adm Level                                        Admin1 Code  \\\n",
       "0          NaN                                                NaN   \n",
       "1          NaN                                                NaN   \n",
       "3          NaN                                                NaN   \n",
       "4          NaN                                                NaN   \n",
       "5          NaN                                                NaN   \n",
       "...        ...                                                ...   \n",
       "2441         1  3217;3219;3227;3231;3232;3238;3239;3241;3247;3...   \n",
       "2449         1            3220;3221;3232;3234;3244;3246;3252;3260   \n",
       "2463       1;2                                          3236;3263   \n",
       "2509       1;2                                3247;3249;3250;3254   \n",
       "2519         2                                                NaN   \n",
       "\n",
       "                                            Admin2 Code  \\\n",
       "0                                                   NaN   \n",
       "1                                                   NaN   \n",
       "3                                                   NaN   \n",
       "4                                                   NaN   \n",
       "5                                                   NaN   \n",
       "...                                                 ...   \n",
       "2441                                                NaN   \n",
       "2449                                                NaN   \n",
       "2463  28805;28836;28845;29329;29687;29712;29724;2975...   \n",
       "2509  28694;28701;28743;28748;28751;30079;30082;3009...   \n",
       "2519  28736;29076;29140;29152;30094;30111;30116;3012...   \n",
       "\n",
       "                                          Geo Locations  \n",
       "0                                                   NaN  \n",
       "1                                                   NaN  \n",
       "3                                                   NaN  \n",
       "4                                                   NaN  \n",
       "5                                                   NaN  \n",
       "...                                                 ...  \n",
       "2441  Arkansas, Colorado, Illinois, Kentucky, Louisi...  \n",
       "2449  Connecticut, Delaware, Louisiana, Maryland, Ne...  \n",
       "2463  Michigan, Wisconsin (Adm1). Caldwell, Craighea...  \n",
       "2509  North Carolina, Ohio, Oklahoma, South Carolina...  \n",
       "2519  Allendale, Bleckley, Collin, Covington, Dallas...  \n",
       "\n",
       "[672 rows x 50 columns]"
      ]
     },
     "execution_count": 3,
     "metadata": {},
     "output_type": "execute_result"
    }
   ],
   "source": [
    "data[data['Insured Damages (\\'000 US$)'].isna()==0]"
   ]
  },
  {
   "cell_type": "markdown",
   "metadata": {},
   "source": [
    "Funkcja generuje trajektorie procesu Poissona do momentu t_max metodą przerzedzania. https://onlinelibrary.wiley.com/doi/10.1002/nav.3800260304"
   ]
  },
  {
   "cell_type": "code",
   "execution_count": 13,
   "metadata": {},
   "outputs": [],
   "source": [
    "def NHPP(t_max, params):\n",
    "    \"\"\"\n",
    "    Funkcja generuje trajektorię niejednorodnego procesu Poissona.\n",
    "    t_max - maksymalny moment czasu.\n",
    "    params\n",
    "    \"\"\"\n",
    "    N = 0.0\n",
    "    t = 0\n",
    "    df = pd.DataFrame({'t':t,'N':N},index=[0])\n",
    "    while True:\n",
    "        N = (N ** params[1] + scipy.stats.expon.rvs(loc=params[0])) ** (1/params[1])\n",
    "        t += 1\n",
    "        df = df.append({'t':t,'N':N},ignore_index=True)\n",
    "        if N > t_max:\n",
    "            return(df)\n",
    "            break"
   ]
  },
  {
   "cell_type": "code",
   "execution_count": 14,
   "metadata": {},
   "outputs": [],
   "source": [
    "n=NHPP(10000000,[0.5,0.35])"
   ]
  },
  {
   "cell_type": "code",
   "execution_count": 15,
   "metadata": {},
   "outputs": [],
   "source": [
    "def HPP(t_max, lambd):\n",
    "    \"\"\"\n",
    "    Funkcja generuje trajektorię jednorodnego procesu Poissona.\n",
    "    t_max - maksymalny moment czasu.\n",
    "    lambda - parametr lambda procesu Poissona.\n",
    "    \"\"\"\n",
    "    N = 0\n",
    "    t = 0\n",
    "    df = pd.DataFrame({'t':t,'N':N},index=[0])\n",
    "    while True:\n",
    "        T = scipy.stats.expon.rvs(loc=lambd)\n",
    "        t += T\n",
    "        N += 1\n",
    "        df = df.append({'t':t,'N':N},ignore_index=True)\n",
    "        if t > t_max:\n",
    "            return(df)\n",
    "            break"
   ]
  },
  {
   "cell_type": "code",
   "execution_count": 16,
   "metadata": {},
   "outputs": [
    {
     "data": {
      "text/html": [
       "<div>\n",
       "<style scoped>\n",
       "    .dataframe tbody tr th:only-of-type {\n",
       "        vertical-align: middle;\n",
       "    }\n",
       "\n",
       "    .dataframe tbody tr th {\n",
       "        vertical-align: top;\n",
       "    }\n",
       "\n",
       "    .dataframe thead th {\n",
       "        text-align: right;\n",
       "    }\n",
       "</style>\n",
       "<table border=\"1\" class=\"dataframe\">\n",
       "  <thead>\n",
       "    <tr style=\"text-align: right;\">\n",
       "      <th></th>\n",
       "      <th>t</th>\n",
       "      <th>N</th>\n",
       "    </tr>\n",
       "  </thead>\n",
       "  <tbody>\n",
       "    <tr>\n",
       "      <th>0</th>\n",
       "      <td>0.000000</td>\n",
       "      <td>0.0</td>\n",
       "    </tr>\n",
       "    <tr>\n",
       "      <th>1</th>\n",
       "      <td>3.422407</td>\n",
       "      <td>1.0</td>\n",
       "    </tr>\n",
       "    <tr>\n",
       "      <th>2</th>\n",
       "      <td>6.815460</td>\n",
       "      <td>2.0</td>\n",
       "    </tr>\n",
       "    <tr>\n",
       "      <th>3</th>\n",
       "      <td>10.514075</td>\n",
       "      <td>3.0</td>\n",
       "    </tr>\n",
       "  </tbody>\n",
       "</table>\n",
       "</div>"
      ],
      "text/plain": [
       "           t    N\n",
       "0   0.000000  0.0\n",
       "1   3.422407  1.0\n",
       "2   6.815460  2.0\n",
       "3  10.514075  3.0"
      ]
     },
     "execution_count": 16,
     "metadata": {},
     "output_type": "execute_result"
    }
   ],
   "source": [
    "HPP(10,2)"
   ]
  },
  {
   "cell_type": "code",
   "execution_count": 19,
   "metadata": {},
   "outputs": [],
   "source": [
    "def HPP2(t_max, lambd):\n",
    "    \"\"\"\n",
    "    Funkcja generuje trajektorię jednorodnego procesu Poissona metodą sortowania rozkładu jednostajnego.\n",
    "    t_max - maksymalny moment czasu.\n",
    "    lambda - parametr lambda procesu Poissona.\n",
    "    \"\"\"\n",
    "    N = scipy.stats.poisson.rvs(lambd*t_max)\n",
    "    U = np.sort(scipy.stats.uniform.rvs(size=N))\n",
    "    S = t_max*U\n",
    "    return(S)\n"
   ]
  },
  {
   "cell_type": "code",
   "execution_count": 20,
   "metadata": {},
   "outputs": [
    {
     "data": {
      "text/plain": [
       "array([1.369477  , 2.70610703, 2.8207501 , 3.17113743, 3.29310887,\n",
       "       3.44100332, 4.04291899, 4.95437049, 5.26064888, 5.69406254,\n",
       "       5.75085935, 5.9095489 , 6.03994663, 6.58279705, 6.9060903 ,\n",
       "       7.53741247, 8.14160593, 8.37009387, 9.53128711, 9.71632873])"
      ]
     },
     "execution_count": 20,
     "metadata": {},
     "output_type": "execute_result"
    }
   ],
   "source": [
    "HPP2(10,2)"
   ]
  },
  {
   "cell_type": "code",
   "execution_count": 54,
   "metadata": {},
   "outputs": [
    {
     "data": {
      "text/plain": [
       "(array([88., 25., 15., 10., 16., 10., 11.,  4.,  8.,  6.]),\n",
       " array([       0.        ,  1001722.82718592,  2003445.65437185,\n",
       "         3005168.48155777,  4006891.30874369,  5008614.13592961,\n",
       "         6010336.96311554,  7012059.79030146,  8013782.61748738,\n",
       "         9015505.4446733 , 10017228.27185923]),\n",
       " <BarContainer object of 10 artists>)"
      ]
     },
     "execution_count": 54,
     "metadata": {},
     "output_type": "execute_result"
    },
    {
     "data": {
      "image/png": "[encoded data removed]",
      "text/plain": [
       "<Figure size 432x288 with 1 Axes>"
      ]
     },
     "metadata": {
      "needs_background": "light"
     },
     "output_type": "display_data"
    }
   ],
   "source": [
    "fig, ax = plt.subplots(1, 1)\n",
    "ax.hist(n['N'])"
   ]
  },
  {
   "cell_type": "code",
   "execution_count": 17,
   "metadata": {},
   "outputs": [],
   "source": [
    "def first_negative(lst):\n",
    "    res = [i for i,x in enumerate(lst) if x<0]\n",
    "    return None if res == [] else res[0]"
   ]
  },
  {
   "cell_type": "code",
   "execution_count": 21,
   "metadata": {},
   "outputs": [],
   "source": [
    "def ruin(u, theta, t_max, lambd, distribution, params):\n",
    "    N = HPP(t_max,lambd)\n",
    "    if distribution == \"lognorm\":\n",
    "        C = lambd*(np.exp(params[0]+params[1]**2/2))*(1+theta)\n",
    "        X = scipy.stats.lognorm.rvs(params[1],size=int(max(N['N'])),loc=params[0])\n",
    "    elif distribution == \"exponential\":\n",
    "        C = lambd*(1/params[0])*(1+theta)\n",
    "        X = scipy.stats.expon.rvs(size=int(max(N['N'])),scale=1/params[0])\n",
    "    elif distribution == \"gamma\":\n",
    "        C = lambd*(params[0]/params[1])*(1+theta)\n",
    "        X = scipy.stats.gamma.rvs(size=int(max(N['N'])),shpape=params[0],scale=1/params[1])   \n",
    "    elif distribution == \"weibull\":\n",
    "        C = lambd*(params[0]*scipy.special.gamma(1+1/params[1]))*(1+theta)\n",
    "        X = scipy.stats.weibull_max.rvs(size=int(max(N['N'])),loc=params[0],scale=params[1])\n",
    "    # elif distribution == \"burr\":\n",
    "    #     C = lambd*(np.exp(params[0]+params[1]^2/2))*(1+theta)\n",
    "    #     X = scipy.stats.lognorm.rvs(size=int(max(N['N'])),loc=params[0],scale=params[1])   \n",
    "    C_t = np.array(C*N['N'])\n",
    "    S = np.insert(np.cumsum(X),0,0.0)\n",
    "    R_temp = u + C - S\n",
    "    ruin_time = first_negative(R_temp)\n",
    "    if ruin_time != None:\n",
    "        R = R_temp[0:ruin_time+1]\n",
    "    else:\n",
    "        R = R_temp\n",
    "    return([R,ruin_time])\n"
   ]
  },
  {
   "cell_type": "code",
   "execution_count": 26,
   "metadata": {},
   "outputs": [
    {
     "data": {
      "text/plain": [
       "[array([103.95693105, 102.45627315, 102.2944711 , 101.65269086,\n",
       "        100.44389959,  98.80271709,  97.31269319,  86.84673267,\n",
       "         85.38406094,  85.28785017,  85.07936507,  84.1199284 ,\n",
       "         83.09182813,  82.65067388,  79.54431972,  77.27374359,\n",
       "         75.84953222,  75.33976263,  74.62156069,  70.6161093 ,\n",
       "         69.8525049 ,  69.41231354,  68.94289362,  61.61566097,\n",
       "         61.49757349,  60.23157301,  47.20668976,  46.79206543,\n",
       "         44.80742406,  42.4635341 ,  42.10190914,  40.3675295 ,\n",
       "         39.29074491,  38.46022574,  38.22794447,  37.80085857]),\n",
       " None]"
      ]
     },
     "execution_count": 26,
     "metadata": {},
     "output_type": "execute_result"
    }
   ],
   "source": [
    "ruin(100,0.2,100,2,\"lognorm\",[0,1])"
   ]
  },
  {
   "cell_type": "code",
   "execution_count": 49,
   "metadata": {},
   "outputs": [],
   "source": [
    "def ruin_simulations(n, u, theta, t_max, lambd, distribution, params):\n",
    "    S = 0\n",
    "    for i in range(n):\n",
    "        if ruin(u, theta, t_max, lambd, distribution, params)[1] != None:\n",
    "            S += 1\n",
    "    return(S/n)"
   ]
  },
  {
   "cell_type": "code",
   "execution_count": 80,
   "metadata": {},
   "outputs": [
    {
     "data": {
      "text/plain": [
       "array([1.])"
      ]
     },
     "execution_count": 80,
     "metadata": {},
     "output_type": "execute_result"
    }
   ],
   "source": [
    "p = np.empty(0)\n",
    "p =np.insert(p,0,1)\n",
    "p"
   ]
  },
  {
   "cell_type": "code",
   "execution_count": 88,
   "metadata": {},
   "outputs": [],
   "source": [
    "p = np.empty(0)\n",
    "for n in range(50,5000,50):\n",
    "    p = np.insert(p,len(p),ruin_simulations(n,10,0.2,10,1,\"lognorm\",[0,1]))"
   ]
  },
  {
   "cell_type": "code",
   "execution_count": 94,
   "metadata": {},
   "outputs": [
    {
     "data": {
      "text/plain": [
       "Text(0, 0.5, 'Prawdopodobieństwo ruiny')"
      ]
     },
     "execution_count": 94,
     "metadata": {},
     "output_type": "execute_result"
    },
    {
     "data": {
      "image/png": "[encoded data removed]",
      "text/plain": [
       "<Figure size 432x288 with 1 Axes>"
      ]
     },
     "metadata": {
      "needs_background": "light"
     },
     "output_type": "display_data"
    }
   ],
   "source": [
    "fig, ax = plt.subplots(1, 1)\n",
    "ax.plot(range(50,5000,50),p)\n",
    "plt.xlabel(\"Liczba symulacji\")\n",
    "plt.ylabel(\"Prawdopodobieństwo ruiny\")"
   ]
  }
 ],
 "metadata": {
  "kernelspec": {
   "display_name": "Python 3.9.7 ('base')",
   "language": "python",
   "name": "python3"
  },
  "language_info": {
   "codemirror_mode": {
    "name": "ipython",
    "version": 3
   },
   "file_extension": ".py",
   "mimetype": "text/x-python",
   "name": "python",
   "nbconvert_exporter": "python",
   "pygments_lexer": "ipython3",
   "version": "3.9.7"
  },
  "orig_nbformat": 4,
  "vscode": {
   "interpreter": {
    "hash": "fbce44053a392e2d3acfeeaf9c14acc950329011ff8566e096397dd8c7fd702a"
   }
  }
 },
 "nbformat": 4,
 "nbformat_minor": 2
}
