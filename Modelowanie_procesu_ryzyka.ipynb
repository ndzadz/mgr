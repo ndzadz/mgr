{
 "cells": [
  {
   "attachments": {},
   "cell_type": "markdown",
   "metadata": {},
   "source": [
    "# Modelowanie procesu ryzyka"
   ]
  },
  {
   "cell_type": "code",
   "execution_count": 2,
   "metadata": {},
   "outputs": [
    {
     "name": "stdout",
     "output_type": "stream",
     "text": [
      "      fun: 1375.1579339596738\n",
      " hess_inv: <4x4 LbfgsInvHessProduct with dtype=float64>\n",
      "      jac: array([ 4.54747313e-05, -2.27373677e-05, -2.51702660e-02,  4.54747313e-04])\n",
      "  message: 'CONVERGENCE: REL_REDUCTION_OF_F_<=_FACTR*EPSMCH'\n",
      "     nfev: 255\n",
      "      nit: 42\n",
      "     njev: 51\n",
      "   status: 0\n",
      "  success: True\n",
      "        x: array([14.86573535,  6.34683826,  1.05347731,  8.96354863])\n",
      "1     17\n",
      "2     28\n",
      "3     29\n",
      "4     25\n",
      "5     11\n",
      "6     18\n",
      "7     12\n",
      "8     26\n",
      "9     26\n",
      "10    16\n",
      "11     7\n",
      "12    10\n",
      "13    13\n",
      "14    13\n",
      "15    13\n",
      "16     9\n",
      "17    12\n",
      "18    22\n",
      "19    13\n",
      "20    10\n",
      "21     9\n",
      "22    16\n",
      "23    20\n",
      "24    20\n",
      "25    15\n",
      "26    25\n",
      "27    21\n",
      "28    32\n",
      "29     4\n",
      "30    10\n",
      "31     8\n",
      "32     1\n",
      "33     2\n",
      "Name: Dis No, dtype: int64\n",
      "Year\n",
      "1     14\n",
      "2     12\n",
      "3     12\n",
      "4     18\n",
      "5     17\n",
      "6     10\n",
      "7     19\n",
      "8     18\n",
      "9     15\n",
      "10    12\n",
      "11    18\n",
      "12    12\n",
      "13    19\n",
      "14    20\n",
      "15    16\n",
      "16    15\n",
      "17    11\n",
      "18     8\n",
      "19    13\n",
      "20    17\n",
      "21    11\n",
      "22    15\n",
      "23     8\n",
      "24    16\n",
      "25    23\n",
      "26    13\n",
      "27    16\n",
      "28    15\n",
      "29    20\n",
      "30     8\n",
      "31    21\n",
      "32    14\n",
      "33    14\n",
      "Name: n, dtype: int64\n",
      "MSE:  87.36363636363636 MAE:  7.909090909090909\n",
      "      fun: 1728.9810271263777\n",
      " hess_inv: <2x2 LbfgsInvHessProduct with dtype=float64>\n",
      "      jac: array([-6.82120970e-05,  3.15367288e-02])\n",
      "  message: 'CONVERGENCE: REL_REDUCTION_OF_F_<=_FACTR*EPSMCH'\n",
      "     nfev: 81\n",
      "      nit: 11\n",
      "     njev: 27\n",
      "   status: 0\n",
      "  success: True\n",
      "        x: array([2.12313005e+01, 2.07091572e-02])\n",
      "(17, [0.44120987017435354, 3.7967184014352715, 12.11098247708715, 13.265028041147637, 13.979558101317036, 16.76164045192276, 18.220026210688584, 19.867862002162532, 24.976794090771726, 26.229415532202808, 26.895899549705145, 29.749883943444125, 29.751453808607156, 30.74775078276088, 30.805196697986613, 32.38107446249452, 32.56695381080787])\n",
      "Year\n",
      "1     1.0\n",
      "2     0.0\n",
      "3     0.0\n",
      "4     1.0\n",
      "5     0.0\n",
      "6     0.0\n",
      "7     0.0\n",
      "8     0.0\n",
      "9     0.0\n",
      "10    0.0\n",
      "11    0.0\n",
      "12    0.0\n",
      "13    1.0\n",
      "14    2.0\n",
      "15    0.0\n",
      "16    0.0\n",
      "17    1.0\n",
      "18    0.0\n",
      "19    1.0\n",
      "20    1.0\n",
      "21    0.0\n",
      "22    0.0\n",
      "23    0.0\n",
      "24    0.0\n",
      "25    1.0\n",
      "26    0.0\n",
      "27    2.0\n",
      "28    0.0\n",
      "29    0.0\n",
      "30    2.0\n",
      "31    2.0\n",
      "32    0.0\n",
      "33    2.0\n",
      "Name: n, dtype: float64\n",
      "MSE:  291.1515151515151 MAE:  15.030303030303031\n"
     ]
    }
   ],
   "source": [
    "%run \"C:\\Users\\ndzad\\Dropbox\\MINI\\Magisterka\\repo\\mgr\\Modelowanie_liczby_roszczen.ipynb\""
   ]
  },
  {
   "cell_type": "code",
   "execution_count": 3,
   "metadata": {},
   "outputs": [
    {
     "name": "stdout",
     "output_type": "stream",
     "text": [
      "1.395177366818116e-06\n",
      "12.621668063027776 2.3407817241437945\n",
      "1.0 1.0\n",
      "-0.07922893559021643 275203.25662999536\n"
     ]
    },
    {
     "name": "stderr",
     "output_type": "stream",
     "text": [
      "C:\\Users\\ndzad\\AppData\\Local\\Temp/ipykernel_7128/3568942317.py:5: RuntimeWarning: divide by zero encountered in log\n",
      "  eq2 = np.log(np.mean(X)/np.power(np.prod(X),1/n))-np.log(alpha)+psi(alpha)\n",
      "c:\\Users\\ndzad\\anaconda3\\lib\\site-packages\\scipy\\optimize\\minpack.py:175: RuntimeWarning: The iteration is not making good progress, as measured by the \n",
      "  improvement from the last ten iterations.\n",
      "  warnings.warn(msg, RuntimeWarning)\n"
     ]
    }
   ],
   "source": [
    "%run \"C:\\Users\\ndzad\\Dropbox\\MINI\\Magisterka\\repo\\mgr\\Modelowanie_wartosci_odszkodowan.ipynb\""
   ]
  },
  {
   "cell_type": "code",
   "execution_count": 73,
   "metadata": {},
   "outputs": [],
   "source": [
    "def risk_process(mu, theta, X_distribution, X_params, lambda_func, lambda_fun_params, t):\n",
    "    \"\"\"\n",
    "    Funkcja generuje proces ryzyka dla zadanych parametrów.\n",
    "\n",
    "    Argumenty:\n",
    "        mu: float\n",
    "            Kapitał początkowy\n",
    "        theta: float\n",
    "            Narzut\n",
    "        X_distribution: string\n",
    "            Rozkład z jakiego pochodzą wartości odzkodowań\n",
    "        X_params:\n",
    "            Parametry rozkładu z jakiego pochodzą wartości odszkodowań\n",
    "        lambda_func: funkcja\n",
    "            Funkcja intensywności\n",
    "        lambda_func_params: tab\n",
    "            Tablica zawierająca parametry funkcji intensywności\n",
    "        t: int\n",
    "            Maksymalna liczba lat\n",
    "    Zwraca:\n",
    "        numpy.ndarray\n",
    "            Tablica procesu ryzyka.\n",
    "    \"\"\" \n",
    "    n_pred = nhpp(lambda_func,lambda_fun_params,t+1)\n",
    "    unique, counts = np.unique(np.ceil(n_pred[1]), return_counts=True)\n",
    "    values = pd.DataFrame({'Year':unique, 'n':counts})\n",
    "    index_df = pd.DataFrame({'Year':np.array(range(1,t+1))})\n",
    "    merged_table = pd.merge(index_df, values, on='Year', how='left').fillna(0).set_index('Year')\n",
    "    n_pred = pd.Series(merged_table['n']).astype(int)\n",
    "    x = []\n",
    "    y = []\n",
    "    if X_distribution == 'expon':\n",
    "        for i in range(1,t+1):\n",
    "            x.append(sum(stats.expon.rvs(scale=1/X_params[0],size=n_pred[i])))\n",
    "    S = np.cumsum(x)\n",
    "    for i in range(0, t+1):\n",
    "        y.append(sin_int_fun(i,lambda_fun_params)[0])\n",
    "    Y = np.cumsum(y)[1:t+1]\n",
    "    c = (1+theta)*mu*Y\n",
    "    R = mu + c - S\n",
    "    return R"
   ]
  },
  {
   "cell_type": "code",
   "execution_count": 101,
   "metadata": {},
   "outputs": [
    {
     "data": {
      "text/plain": [
       "array([3.79656171e+07, 5.38175804e+07, 7.30282955e+07, 9.23623859e+07,\n",
       "       1.12151079e+08, 1.31002660e+08, 1.40313189e+08, 1.45992273e+08,\n",
       "       1.60581722e+08, 1.66333296e+08])"
      ]
     },
     "execution_count": 101,
     "metadata": {},
     "output_type": "execute_result"
    }
   ],
   "source": [
    "risk_process(1e6,0.3,'expon',[1.395177366818116e-06],sin_int_fun,[14.86573535,  6.34683826,  1.05347731,  8.96354863],10)"
   ]
  }
 ],
 "metadata": {
  "kernelspec": {
   "display_name": "base",
   "language": "python",
   "name": "python3"
  },
  "language_info": {
   "codemirror_mode": {
    "name": "ipython",
    "version": 3
   },
   "file_extension": ".py",
   "mimetype": "text/x-python",
   "name": "python",
   "nbconvert_exporter": "python",
   "pygments_lexer": "ipython3",
   "version": "3.9.7"
  },
  "orig_nbformat": 4
 },
 "nbformat": 4,
 "nbformat_minor": 2
}
