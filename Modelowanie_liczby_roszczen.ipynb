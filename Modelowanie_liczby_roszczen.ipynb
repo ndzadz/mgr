{
 "cells": [
  {
   "attachments": {},
   "cell_type": "markdown",
   "metadata": {},
   "source": [
    "# Modelowanie liczby roszczeń"
   ]
  },
  {
   "attachments": {},
   "cell_type": "markdown",
   "metadata": {},
   "source": [
    "### Generowanie niejednorodnego procesu Poissona metodą przerzedzania"
   ]
  },
  {
   "cell_type": "code",
   "execution_count": 1,
   "metadata": {},
   "outputs": [],
   "source": [
    "import numpy as np\n",
    "import pandas as pd"
   ]
  },
  {
   "attachments": {},
   "cell_type": "markdown",
   "metadata": {},
   "source": [
    "Oznaczenia\n",
    "<br/>\n",
    "n - liczba zdarzeń w każdym roku\n",
    "<br/>\n",
    "N - skumulowana licza zdarzeń od początku"
   ]
  },
  {
   "cell_type": "code",
   "execution_count": 2,
   "metadata": {},
   "outputs": [],
   "source": [
    "def nhpp(lambda_func,lambda_func_params, t_max):\n",
    "    \"\"\"\n",
    "    Funkcja generuje niejednorodny proces Poissona metodą przerzerzedzania.\n",
    "\n",
    "    Argumenty:\n",
    "        lambda_func: funkcja\n",
    "            Funkcja intensywności\n",
    "        lambda_func_params: tab\n",
    "            Tablica zawierająca parametry funkcji intensywności\n",
    "        t_max: float\n",
    "            Maksymalny czas symulacji\n",
    "        lambda_max: float\n",
    "            Ograniczenie górne funkcji lambda_func\n",
    "    Zwraca:\n",
    "        numpy.ndarray\n",
    "            Tablica czasów.\n",
    "    \"\"\"\n",
    "\n",
    "    S = 0\n",
    "    N = 0\n",
    "    S_tab = []\n",
    "    lambda_max = lambda_func(0,lambda_func_params)[1]\n",
    "    \n",
    "    while S < t_max:\n",
    "        U = np.random.uniform(0,1)\n",
    "        S=S+(-1/lambda_max)*np.log(U)\n",
    "        if S > t_max:\n",
    "            break\n",
    "        U = np.random.uniform(0,1)\n",
    "        if U <= lambda_func(S,lambda_func_params)[0]/lambda_max:\n",
    "            N = N + 1\n",
    "            S_tab.append(S)\n",
    "\n",
    "    return N, S_tab"
   ]
  },
  {
   "cell_type": "code",
   "execution_count": 3,
   "metadata": {},
   "outputs": [],
   "source": [
    "def sin_int_fun(t,lambda_func_params):\n",
    "    \"\"\"\n",
    "    Sinusoidalna funkcja intensywności.\n",
    "\n",
    "    Argumenty:\n",
    "        t: float\n",
    "            Funkcja intensywności\n",
    "        lambda_func_params: tab\n",
    "            Tablica zawierająca parametry funkcji intensywności.\n",
    "            W tym przypadku listę zawierającą: [lambda_0, lambda_1, lambda_2]\n",
    "    Zwraca:\n",
    "        float\n",
    "            Wartość funkcji intensywności.\n",
    "        float\n",
    "            Górne ograniczenie funkcji.\n",
    "            W tym przypadku lambda_0+lambda_1.    \n",
    "    \"\"\"\n",
    "    return lambda_func_params[0]+lambda_func_params[1]*2*np.pi*np.sin(2*np.pi*(t-lambda_func_params[2])), lambda_func_params[0]+lambda_func_params[1]*2*np.pi"
   ]
  },
  {
   "cell_type": "code",
   "execution_count": 1,
   "metadata": {},
   "outputs": [],
   "source": [
    "def const_int_fun(t,lambda_func_params):\n",
    "    \"\"\"\n",
    "    Stała funkcja intensywności.\n",
    "\n",
    "    Argumenty:\n",
    "        t: float\n",
    "            Funkcja intensywności\n",
    "        lambda_func_params: tab\n",
    "            Tablica zawierająca parametry funkcji intensywności.\n",
    "            W tym przypadku listę zawierającą: [lambda_0]\n",
    "    Zwraca:\n",
    "        float\n",
    "            Wartość funkcji intensywności.\n",
    "        float\n",
    "            Górne ograniczenie funkcji.\n",
    "            W tym przypadku lambda_0.    \n",
    "    \"\"\"\n",
    "    return lambda_func_params[0], lambda_func_params[0]"
   ]
  },
  {
   "cell_type": "code",
   "execution_count": 4,
   "metadata": {},
   "outputs": [],
   "source": [
    "def exp_int_fun(t,lambda_func_params):\n",
    "    \"\"\"\n",
    "    Wykładnicza funkcja intensywności.\n",
    "\n",
    "    Argumenty:\n",
    "        t: float\n",
    "            Funkcja intensywności\n",
    "        lambda_func_params: tab\n",
    "            Tablica zawierająca parametry funkcji intensywności. \n",
    "            W tym przypadku listę zawierającą: [lambda_0, lambda]\n",
    "    Zwraca:\n",
    "        float\n",
    "            Wartość funkcji intensywności.\n",
    "        float\n",
    "            Górne ograniczenie funkcji.\n",
    "            W tym przypadku lambda_0/lambda.\n",
    "    \"\"\"\n",
    "    return lambda_func_params[0]*np.exp(-lambda_func_params[1]*t), lambda_func_params[0]*lambda_func_params[1]"
   ]
  },
  {
   "cell_type": "code",
   "execution_count": 150,
   "metadata": {},
   "outputs": [],
   "source": [
    "def MSE(n, n_pred):\n",
    "    k = len(n)\n",
    "    return np.sum((np.asarray(n)-np.asarray(n_pred))**2)/k"
   ]
  },
  {
   "cell_type": "code",
   "execution_count": 151,
   "metadata": {},
   "outputs": [],
   "source": [
    "def MAE(n, n_pred):\n",
    "    k = len(n)\n",
    "    return np.sum(np.abs(np.asarray(n)-np.asarray(n_pred)))/k"
   ]
  },
  {
   "attachments": {},
   "cell_type": "markdown",
   "metadata": {},
   "source": [
    "Metoda najmniejszej sumy kwadratów"
   ]
  },
  {
   "cell_type": "code",
   "execution_count": 152,
   "metadata": {},
   "outputs": [],
   "source": [
    "from scipy.optimize import minimize"
   ]
  },
  {
   "attachments": {},
   "cell_type": "markdown",
   "metadata": {},
   "source": [
    "Sinusoidalna funkcja intensywności"
   ]
  },
  {
   "cell_type": "code",
   "execution_count": 153,
   "metadata": {},
   "outputs": [],
   "source": [
    "def sum_of_squares_sin(lambda_func_params):\n",
    "    t = np.array(range(len(n)))\n",
    "    return np.sum(np.array((n-sin_int_fun(t, lambda_func_params)[0])**2))"
   ]
  },
  {
   "attachments": {},
   "cell_type": "markdown",
   "metadata": {},
   "source": [
    "Stała funkcja intensywności"
   ]
  },
  {
   "cell_type": "code",
   "execution_count": 2,
   "metadata": {},
   "outputs": [],
   "source": [
    "def sum_of_squares_const(lambda_func_params):\n",
    "    t = np.array(range(len(n)))\n",
    "    return np.sum(np.array((n-const_int_fun(t, lambda_func_params)[0])**2))"
   ]
  },
  {
   "attachments": {},
   "cell_type": "markdown",
   "metadata": {},
   "source": [
    "Wykładnicza funkcja intensywności"
   ]
  },
  {
   "cell_type": "code",
   "execution_count": 127,
   "metadata": {},
   "outputs": [],
   "source": [
    "def sum_of_squares_exp(lambda_func_params):\n",
    "    t = np.array(range(len(n)))\n",
    "    return np.sum(np.array((n-exp_int_fun(t, lambda_func_params)[0])**2))"
   ]
  }
 ],
 "metadata": {
  "kernelspec": {
   "display_name": "base",
   "language": "python",
   "name": "python3"
  },
  "language_info": {
   "codemirror_mode": {
    "name": "ipython",
    "version": 3
   },
   "file_extension": ".py",
   "mimetype": "text/x-python",
   "name": "python",
   "nbconvert_exporter": "python",
   "pygments_lexer": "ipython3",
   "version": "3.9.7"
  },
  "orig_nbformat": 4,
  "vscode": {
   "interpreter": {
    "hash": "fbce44053a392e2d3acfeeaf9c14acc950329011ff8566e096397dd8c7fd702a"
   }
  }
 },
 "nbformat": 4,
 "nbformat_minor": 2
}
