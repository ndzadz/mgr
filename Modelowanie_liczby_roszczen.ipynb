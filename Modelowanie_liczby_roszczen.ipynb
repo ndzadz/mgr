{
 "cells": [
  {
   "attachments": {},
   "cell_type": "markdown",
   "metadata": {},
   "source": [
    "# Modelowanie liczb roszczeń"
   ]
  },
  {
   "attachments": {},
   "cell_type": "markdown",
   "metadata": {},
   "source": [
    "### Generowanie niejednorodnego procesu Poissona metodą przerzedzania"
   ]
  },
  {
   "cell_type": "code",
   "execution_count": 1,
   "metadata": {},
   "outputs": [],
   "source": [
    "import numpy as np\n",
    "import pandas as pd"
   ]
  },
  {
   "cell_type": "code",
   "execution_count": 79,
   "metadata": {},
   "outputs": [],
   "source": [
    "def nhpp(lambda_func,lambda_0,lambda_func_params, t_max, lambda_max=None):\n",
    "    \"\"\"\n",
    "    Funkcja generuje niejednorodny proces Poissona metodą przerzerzedzania.\n",
    "\n",
    "    Argumenty:\n",
    "        lambda_func: funkcja\n",
    "            Funkcja intensywności\n",
    "        lambda_0: float\n",
    "            Intensywność bazowa procesu\n",
    "        lambda_func_params: tab\n",
    "            Tablica zawierająca parametry funkcji intensywności\n",
    "        t_max: float\n",
    "            Maksymalny czas symulacji\n",
    "        lambda_max: float\n",
    "            Ograniczenie górne funkcji lambda_func\n",
    "    Zwraca:\n",
    "        numpy.ndarray\n",
    "            Tablica czasów.\n",
    "    \"\"\"\n",
    "\n",
    "    S = 0\n",
    "    N = 0\n",
    "    S_tab = [0]\n",
    "\n",
    "    # Loop until maximum simulation time\n",
    "    while S < t_max:\n",
    "        U = np.random.uniform(0,1)\n",
    "        S=S+(-1/lambda_max)*np.log(U)\n",
    "        if S > t_max:\n",
    "            break\n",
    "        U = np.random.uniform(0,1)\n",
    "        if U <= lambda_func(S,lambda_0,lambda_func_params)/lambda_max:\n",
    "            N = N + 1\n",
    "            S_tab.append(S)\n",
    "\n",
    "    return S_tab"
   ]
  },
  {
   "cell_type": "code",
   "execution_count": 9,
   "metadata": {},
   "outputs": [],
   "source": [
    "def exp_int_fun(t,lambda_0,lambda_func_params):\n",
    "    \"\"\"\n",
    "    Wykładnicza funkcja intnsywności.\n",
    "\n",
    "    Argumenty:\n",
    "        t: float\n",
    "            Funkcja intensywności\n",
    "        lambda_0: float\n",
    "            Intensywność bazowa procesu\n",
    "        lambda_func_params: tab\n",
    "            Tablica zawierająca parametry funkcji intensywności\n",
    "    Zwraca:\n",
    "        float\n",
    "            Wartość funkcji intensywności.\n",
    "    \"\"\"\n",
    "    return(lambda_0*np.exp(-lambda_func_params[0]*t))"
   ]
  },
  {
   "cell_type": "code",
   "execution_count": 80,
   "metadata": {},
   "outputs": [
    {
     "data": {
      "text/plain": [
       "[0,\n",
       " 0.9608788505678786,\n",
       " 2.654471128469743,\n",
       " 2.888531747726635,\n",
       " 3.184816870402217,\n",
       " 5.805580783631618,\n",
       " 10.579580778455268,\n",
       " 16.626061618074356,\n",
       " 23.11114496743264,\n",
       " 25.185353676602254,\n",
       " 28.42432780113466,\n",
       " 33.77793356893336]"
      ]
     },
     "execution_count": 80,
     "metadata": {},
     "output_type": "execute_result"
    }
   ],
   "source": [
    "nhpp(exp_int_fun,1,[1/10],10000,10)"
   ]
  }
 ],
 "metadata": {
  "kernelspec": {
   "display_name": "base",
   "language": "python",
   "name": "python3"
  },
  "language_info": {
   "codemirror_mode": {
    "name": "ipython",
    "version": 3
   },
   "file_extension": ".py",
   "mimetype": "text/x-python",
   "name": "python",
   "nbconvert_exporter": "python",
   "pygments_lexer": "ipython3",
   "version": "3.9.7 (default, Sep 16 2021, 16:59:28) [MSC v.1916 64 bit (AMD64)]"
  },
  "orig_nbformat": 4,
  "vscode": {
   "interpreter": {
    "hash": "fbce44053a392e2d3acfeeaf9c14acc950329011ff8566e096397dd8c7fd702a"
   }
  }
 },
 "nbformat": 4,
 "nbformat_minor": 2
}
