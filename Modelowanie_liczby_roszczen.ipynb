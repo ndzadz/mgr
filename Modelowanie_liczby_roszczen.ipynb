{
 "cells": [
  {
   "attachments": {},
   "cell_type": "markdown",
   "metadata": {},
   "source": [
    "# Modelowanie liczby roszczeń"
   ]
  },
  {
   "attachments": {},
   "cell_type": "markdown",
   "metadata": {},
   "source": [
    "### Generowanie niejednorodnego procesu Poissona metodą przerzedzania"
   ]
  },
  {
   "cell_type": "code",
   "execution_count": 1,
   "metadata": {},
   "outputs": [],
   "source": [
    "import numpy as np\n",
    "import pandas as pd"
   ]
  },
  {
   "attachments": {},
   "cell_type": "markdown",
   "metadata": {},
   "source": [
    "Oznaczenia\n",
    "<br/>\n",
    "n - liczba zdarzeń w każdym roku\n",
    "<br/>\n",
    "N - skumulowana licza zdarzeń od początku"
   ]
  },
  {
   "cell_type": "code",
   "execution_count": 2,
   "metadata": {},
   "outputs": [],
   "source": [
    "def nhpp(lambda_func,lambda_func_params, t_max):\n",
    "    \"\"\"\n",
    "    Funkcja generuje niejednorodny proces Poissona metodą przerzerzedzania.\n",
    "\n",
    "    Argumenty:\n",
    "        lambda_func: funkcja\n",
    "            Funkcja intensywności\n",
    "        lambda_func_params: tab\n",
    "            Tablica zawierająca parametry funkcji intensywności\n",
    "        t_max: float\n",
    "            Maksymalny czas symulacji\n",
    "        lambda_max: float\n",
    "            Ograniczenie górne funkcji lambda_func\n",
    "    Zwraca:\n",
    "        numpy.ndarray\n",
    "            Tablica czasów.\n",
    "    \"\"\"\n",
    "\n",
    "    S = 0\n",
    "    N = 0\n",
    "    S_tab = []\n",
    "    lambda_max = lambda_func(0,lambda_func_params)[1]\n",
    "    \n",
    "    while S < t_max:\n",
    "        U = np.random.uniform(0,1)\n",
    "        S=S+(-1/lambda_max)*np.log(U)\n",
    "        if S > t_max:\n",
    "            break\n",
    "        U = np.random.uniform(0,1)\n",
    "        if U <= lambda_func(S,lambda_func_params)[0]/lambda_max:\n",
    "            N = N + 1\n",
    "            S_tab.append(S)\n",
    "\n",
    "    return N, S_tab"
   ]
  },
  {
   "cell_type": "code",
   "execution_count": 3,
   "metadata": {},
   "outputs": [],
   "source": [
    "def sin_int_fun(t,lambda_func_params):\n",
    "    \"\"\"\n",
    "    Sinusoidalna funkcja intensywności.\n",
    "\n",
    "    Argumenty:\n",
    "        t: float\n",
    "            Funkcja intensywności\n",
    "        lambda_func_params: tab\n",
    "            Tablica zawierająca parametry funkcji intensywności.\n",
    "            W tym przypadku listę zawierającą: [lambda_0, lambda_1, T, phi]\n",
    "    Zwraca:\n",
    "        float\n",
    "            Wartość funkcji intensywności.\n",
    "        float\n",
    "            Górne ograniczenie funkcji.\n",
    "            W tym przypadku lambda_0+lambda_1.    \n",
    "    \"\"\"\n",
    "    return lambda_func_params[0]+lambda_func_params[1]*np.sin(2*np.pi*t/lambda_func_params[2]+lambda_func_params[3]), lambda_func_params[0]+lambda_func_params[1]"
   ]
  },
  {
   "cell_type": "code",
   "execution_count": 4,
   "metadata": {},
   "outputs": [],
   "source": [
    "def exp_int_fun(t,lambda_func_params):\n",
    "    \"\"\"\n",
    "    Wykładnicza funkcja intensywności.\n",
    "\n",
    "    Argumenty:\n",
    "        t: float\n",
    "            Funkcja intensywności\n",
    "        lambda_func_params: tab\n",
    "            Tablica zawierająca parametry funkcji intensywności. \n",
    "            W tym przypadku listę zawierającą: [lambda_0, lambda]\n",
    "    Zwraca:\n",
    "        float\n",
    "            Wartość funkcji intensywności.\n",
    "        float\n",
    "            Górne ograniczenie funkcji.\n",
    "            W tym przypadku lambda_0/lambda.\n",
    "    \"\"\"\n",
    "    return lambda_func_params[0]*np.exp(-lambda_func_params[1]*t), lambda_func_params[0]*lambda_func_params[1]"
   ]
  },
  {
   "cell_type": "code",
   "execution_count": 5,
   "metadata": {},
   "outputs": [
    {
     "data": {
      "text/plain": [
       "(19,\n",
       " [0.08476798824574257,\n",
       "  1.0829428951571487,\n",
       "  2.133882439130639,\n",
       "  2.290059868588918,\n",
       "  3.1713135458955946,\n",
       "  3.205405245720097,\n",
       "  4.200630809340486,\n",
       "  4.335652335369483,\n",
       "  4.4419694243786205,\n",
       "  5.114303232877399,\n",
       "  5.307173673377175,\n",
       "  6.2169582722376635,\n",
       "  6.320841130104374,\n",
       "  7.095540927159271,\n",
       "  7.311501147331578,\n",
       "  8.074579585004779,\n",
       "  8.158926144638983,\n",
       "  9.186366334332348,\n",
       "  9.269841480425647])"
      ]
     },
     "execution_count": 5,
     "metadata": {},
     "output_type": "execute_result"
    }
   ],
   "source": [
    "nhpp(sin_int_fun,[1,3,1,0],10)"
   ]
  },
  {
   "cell_type": "code",
   "execution_count": 6,
   "metadata": {},
   "outputs": [
    {
     "data": {
      "text/plain": [
       "(7,\n",
       " [3.5297101261192982,\n",
       "  9.790063011528808,\n",
       "  13.039244137267655,\n",
       "  20.475916639147812,\n",
       "  25.77141937935908,\n",
       "  37.78350950618513,\n",
       "  89.57232474549063])"
      ]
     },
     "execution_count": 6,
     "metadata": {},
     "output_type": "execute_result"
    }
   ],
   "source": [
    "nhpp(exp_int_fun,[2,1/10],100)"
   ]
  },
  {
   "attachments": {},
   "cell_type": "markdown",
   "metadata": {},
   "source": [
    "Empiryczny proces $N_t$."
   ]
  },
  {
   "cell_type": "code",
   "execution_count": 7,
   "metadata": {},
   "outputs": [],
   "source": [
    "data = pd.read_csv(\"https://github.com/ndzadz/mgr/blob/main/data_us_1990_2022.csv?raw=true\",encoding=\"latin1\",sep=\";\",header=0)\n",
    "p95 = np.percentile(data[data[\"Insured Damages, Adjusted (\\'000 US$)\"].isna()==0][\"Insured Damages, Adjusted (\\'000 US$)\"],95)\n",
    "data = data[(data[\"Insured Damages, Adjusted (\\'000 US$)\"].isna()==0)&(data[\"Insured Damages, Adjusted (\\'000 US$)\"]<p95)]\n",
    "data = data.rename(columns={'ï»¿Dis No':'Dis No'})"
   ]
  },
  {
   "cell_type": "code",
   "execution_count": 148,
   "metadata": {},
   "outputs": [
    {
     "data": {
      "text/plain": [
       "1     17\n",
       "2     28\n",
       "3     29\n",
       "4     25\n",
       "5     11\n",
       "6     18\n",
       "7     12\n",
       "8     26\n",
       "9     26\n",
       "10    16\n",
       "11     7\n",
       "12    10\n",
       "13    13\n",
       "14    13\n",
       "15    13\n",
       "16     9\n",
       "17    12\n",
       "18    22\n",
       "19    13\n",
       "20    10\n",
       "21     9\n",
       "22    16\n",
       "23    20\n",
       "24    20\n",
       "25    15\n",
       "26    25\n",
       "27    21\n",
       "28    32\n",
       "29     4\n",
       "30    10\n",
       "31     8\n",
       "32     1\n",
       "33     2\n",
       "Name: Dis No, dtype: int64"
      ]
     },
     "execution_count": 148,
     "metadata": {},
     "output_type": "execute_result"
    }
   ],
   "source": [
    "n = pd.Series(data.groupby('Year').count()['Dis No'])\n",
    "n.index = range(1,len(n)+1)\n",
    "n"
   ]
  },
  {
   "cell_type": "code",
   "execution_count": 149,
   "metadata": {},
   "outputs": [
    {
     "data": {
      "text/plain": [
       "1      17\n",
       "2      45\n",
       "3      74\n",
       "4      99\n",
       "5     110\n",
       "6     128\n",
       "7     140\n",
       "8     166\n",
       "9     192\n",
       "10    208\n",
       "11    215\n",
       "12    225\n",
       "13    238\n",
       "14    251\n",
       "15    264\n",
       "16    273\n",
       "17    285\n",
       "18    307\n",
       "19    320\n",
       "20    330\n",
       "21    339\n",
       "22    355\n",
       "23    375\n",
       "24    395\n",
       "25    410\n",
       "26    435\n",
       "27    456\n",
       "28    488\n",
       "29    492\n",
       "30    502\n",
       "31    510\n",
       "32    511\n",
       "33    513\n",
       "Name: Dis No, dtype: int64"
      ]
     },
     "execution_count": 149,
     "metadata": {},
     "output_type": "execute_result"
    }
   ],
   "source": [
    "N = np.cumsum(n)\n",
    "N"
   ]
  },
  {
   "cell_type": "code",
   "execution_count": 150,
   "metadata": {},
   "outputs": [],
   "source": [
    "def MSE(n, n_pred):\n",
    "    k = len(n)\n",
    "    return np.sum(np.array((n-n_pred)**2))/k"
   ]
  },
  {
   "cell_type": "code",
   "execution_count": 151,
   "metadata": {},
   "outputs": [],
   "source": [
    "def MAE(n, n_pred):\n",
    "    k = len(n)\n",
    "    return np.sum(np.abs((n-n_pred)))/k"
   ]
  },
  {
   "attachments": {},
   "cell_type": "markdown",
   "metadata": {},
   "source": [
    "Metoda najmniejszej sumy kwadratów"
   ]
  },
  {
   "cell_type": "code",
   "execution_count": 152,
   "metadata": {},
   "outputs": [],
   "source": [
    "from scipy.optimize import minimize"
   ]
  },
  {
   "attachments": {},
   "cell_type": "markdown",
   "metadata": {},
   "source": [
    "Sinusoidalna funkcja intensywności"
   ]
  },
  {
   "cell_type": "code",
   "execution_count": 153,
   "metadata": {},
   "outputs": [],
   "source": [
    "def sum_of_squares_sin(lambda_func_params):\n",
    "    t = np.array(range(len(n)))\n",
    "    return np.sum(np.array((n-sin_int_fun(t, lambda_func_params)[0])**2))"
   ]
  },
  {
   "cell_type": "code",
   "execution_count": 154,
   "metadata": {},
   "outputs": [
    {
     "data": {
      "text/plain": [
       "9014.000000000011"
      ]
     },
     "execution_count": 154,
     "metadata": {},
     "output_type": "execute_result"
    }
   ],
   "source": [
    "sum_of_squares_sin([1,3,1,0])"
   ]
  },
  {
   "cell_type": "code",
   "execution_count": 155,
   "metadata": {},
   "outputs": [
    {
     "name": "stdout",
     "output_type": "stream",
     "text": [
      "      fun: 1375.1579339596738\n",
      " hess_inv: <4x4 LbfgsInvHessProduct with dtype=float64>\n",
      "      jac: array([ 4.54747313e-05, -2.27373677e-05, -2.51702660e-02,  4.54747313e-04])\n",
      "  message: 'CONVERGENCE: REL_REDUCTION_OF_F_<=_FACTR*EPSMCH'\n",
      "     nfev: 255\n",
      "      nit: 42\n",
      "     njev: 51\n",
      "   status: 0\n",
      "  success: True\n",
      "        x: array([14.86573535,  6.34683826,  1.05347731,  8.96354863])\n"
     ]
    }
   ],
   "source": [
    "bnds = ((0, None), (0, None), (0, None), (0, None)) # ograniczenia na wartości parametrów\n",
    "params = [1.0, 1.0, 1.0, 1.0] # Przyjmujemy początkowe wartości parametrów\n",
    "result = minimize(sum_of_squares_sin, params, bounds=bnds, method='L-BFGS-B')\n",
    "print(result)\n"
   ]
  },
  {
   "attachments": {},
   "cell_type": "markdown",
   "metadata": {},
   "source": [
    "Symulacja procesu z sinusoidalną funkcją intensywności dla wyliczonych parametrów"
   ]
  },
  {
   "cell_type": "code",
   "execution_count": 160,
   "metadata": {},
   "outputs": [
    {
     "name": "stdout",
     "output_type": "stream",
     "text": [
      "1     17\n",
      "2     28\n",
      "3     29\n",
      "4     25\n",
      "5     11\n",
      "6     18\n",
      "7     12\n",
      "8     26\n",
      "9     26\n",
      "10    16\n",
      "11     7\n",
      "12    10\n",
      "13    13\n",
      "14    13\n",
      "15    13\n",
      "16     9\n",
      "17    12\n",
      "18    22\n",
      "19    13\n",
      "20    10\n",
      "21     9\n",
      "22    16\n",
      "23    20\n",
      "24    20\n",
      "25    15\n",
      "26    25\n",
      "27    21\n",
      "28    32\n",
      "29     4\n",
      "30    10\n",
      "31     8\n",
      "32     1\n",
      "33     2\n",
      "Name: Dis No, dtype: int64\n"
     ]
    }
   ],
   "source": [
    "n_pred = nhpp(sin_int_fun,result.x,33)\n",
    "print(n)"
   ]
  },
  {
   "cell_type": "code",
   "execution_count": 161,
   "metadata": {},
   "outputs": [
    {
     "name": "stdout",
     "output_type": "stream",
     "text": [
      "Year\n",
      "1     15\n",
      "2     17\n",
      "3     22\n",
      "4     15\n",
      "5     15\n",
      "6     17\n",
      "7     20\n",
      "8     15\n",
      "9      8\n",
      "10    11\n",
      "11    15\n",
      "12    19\n",
      "13    22\n",
      "14    15\n",
      "15    17\n",
      "16    11\n",
      "17    12\n",
      "18    12\n",
      "19    10\n",
      "20    11\n",
      "21    17\n",
      "22    14\n",
      "23    19\n",
      "24    10\n",
      "25    12\n",
      "26    10\n",
      "27    22\n",
      "28    11\n",
      "29    15\n",
      "30    16\n",
      "31    17\n",
      "32    12\n",
      "33    17\n",
      "Name: n, dtype: int64\n"
     ]
    }
   ],
   "source": [
    "unique, counts = np.unique(np.ceil(n_pred[1]), return_counts=True)\n",
    "values = pd.DataFrame({'Year':unique, 'n':counts})\n",
    "index_df = pd.DataFrame({'Year':np.array(range(1,34))})\n",
    "merged_table = pd.merge(index_df, values, on='Year', how='left').fillna(0).set_index('Year')\n",
    "n_pred = pd.Series(merged_table['n'])\n",
    "N_pred = np.cumsum(n_pred)\n",
    "print(n_pred)"
   ]
  },
  {
   "cell_type": "code",
   "execution_count": 126,
   "metadata": {},
   "outputs": [
    {
     "name": "stdout",
     "output_type": "stream",
     "text": [
      "MSE:  91.03030303030303 MAE:  8.06060606060606\n"
     ]
    }
   ],
   "source": [
    "print(\"MSE: \", MSE(n,n_pred), \"MAE: \", MAE(n,n_pred))"
   ]
  },
  {
   "attachments": {},
   "cell_type": "markdown",
   "metadata": {},
   "source": [
    "Wykładnicza funkcja intensywności"
   ]
  },
  {
   "cell_type": "code",
   "execution_count": 127,
   "metadata": {},
   "outputs": [],
   "source": [
    "def sum_of_squares_exp(lambda_func_params):\n",
    "    t = np.array(range(len(n)))\n",
    "    return np.sum(np.array((n-exp_int_fun(t, lambda_func_params)[0])**2))"
   ]
  },
  {
   "cell_type": "code",
   "execution_count": 128,
   "metadata": {},
   "outputs": [
    {
     "data": {
      "text/plain": [
       "9971.064324374476"
      ]
     },
     "execution_count": 128,
     "metadata": {},
     "output_type": "execute_result"
    }
   ],
   "source": [
    "sum_of_squares_exp([1,3])"
   ]
  },
  {
   "cell_type": "code",
   "execution_count": 129,
   "metadata": {},
   "outputs": [
    {
     "name": "stdout",
     "output_type": "stream",
     "text": [
      "      fun: 1728.9810271263777\n",
      " hess_inv: <2x2 LbfgsInvHessProduct with dtype=float64>\n",
      "      jac: array([-6.82120970e-05,  3.15367288e-02])\n",
      "  message: 'CONVERGENCE: REL_REDUCTION_OF_F_<=_FACTR*EPSMCH'\n",
      "     nfev: 81\n",
      "      nit: 11\n",
      "     njev: 27\n",
      "   status: 0\n",
      "  success: True\n",
      "        x: array([2.12313005e+01, 2.07091572e-02])\n"
     ]
    }
   ],
   "source": [
    "bnds = ((0, None), (0, None)) # ograniczenia na wartości parametrów\n",
    "params = [1.0, 1.0] # Przyjmujemy początkowe wartości parametrów\n",
    "result = minimize(sum_of_squares_exp, params, bounds=bnds, method='L-BFGS-B')\n",
    "print(result)\n"
   ]
  },
  {
   "attachments": {},
   "cell_type": "markdown",
   "metadata": {},
   "source": [
    "Symulacja procesu z sinusoidalną funkcją intensywności dla wyliczonych parametrów"
   ]
  },
  {
   "cell_type": "code",
   "execution_count": 134,
   "metadata": {},
   "outputs": [
    {
     "name": "stdout",
     "output_type": "stream",
     "text": [
      "(10, [8.984835209980888, 11.78057936910135, 11.924656398677355, 12.079714722174632, 15.384835002035674, 16.815081009281883, 21.41136765840557, 24.078638837688565, 29.105988404412884, 32.983114107055606])\n"
     ]
    }
   ],
   "source": [
    "n_pred = nhpp(exp_int_fun,result.x,33)\n",
    "print(n_pred)"
   ]
  },
  {
   "cell_type": "code",
   "execution_count": 138,
   "metadata": {},
   "outputs": [
    {
     "name": "stdout",
     "output_type": "stream",
     "text": [
      "Year\n",
      "1     0.0\n",
      "2     0.0\n",
      "3     0.0\n",
      "4     0.0\n",
      "5     0.0\n",
      "6     0.0\n",
      "7     0.0\n",
      "8     0.0\n",
      "9     0.0\n",
      "10    0.0\n",
      "11    0.0\n",
      "12    0.0\n",
      "13    0.0\n",
      "14    0.0\n",
      "15    0.0\n",
      "16    0.0\n",
      "17    0.0\n",
      "18    0.0\n",
      "19    0.0\n",
      "20    0.0\n",
      "21    0.0\n",
      "22    0.0\n",
      "23    0.0\n",
      "24    0.0\n",
      "25    0.0\n",
      "26    0.0\n",
      "27    0.0\n",
      "28    0.0\n",
      "29    0.0\n",
      "30    0.0\n",
      "31    0.0\n",
      "32    0.0\n",
      "33    0.0\n",
      "Name: n, dtype: float64\n"
     ]
    }
   ],
   "source": [
    "unique, counts = np.unique(np.ceil(n_pred[1]), return_counts=True)\n",
    "values = pd.DataFrame({'Year':unique, 'n':counts})\n",
    "index_df = pd.DataFrame({'Year':np.array(range(1,34))})\n",
    "merged_table = pd.merge(index_df, values, on='Year', how='left').fillna(0).set_index('Year')\n",
    "n_pred = pd.Series(merged_table['n'])\n",
    "N_pred = np.cumsum(n_pred)\n",
    "print(n_pred)"
   ]
  },
  {
   "cell_type": "code",
   "execution_count": 139,
   "metadata": {},
   "outputs": [
    {
     "name": "stdout",
     "output_type": "stream",
     "text": [
      "MSE:  303.24242424242425 MAE:  15.545454545454545\n"
     ]
    }
   ],
   "source": [
    "print(\"MSE: \", MSE(n,n_pred), \"MAE: \", MAE(n,n_pred))"
   ]
  }
 ],
 "metadata": {
  "kernelspec": {
   "display_name": "base",
   "language": "python",
   "name": "python3"
  },
  "language_info": {
   "codemirror_mode": {
    "name": "ipython",
    "version": 3
   },
   "file_extension": ".py",
   "mimetype": "text/x-python",
   "name": "python",
   "nbconvert_exporter": "python",
   "pygments_lexer": "ipython3",
   "version": "3.9.7"
  },
  "orig_nbformat": 4,
  "vscode": {
   "interpreter": {
    "hash": "fbce44053a392e2d3acfeeaf9c14acc950329011ff8566e096397dd8c7fd702a"
   }
  }
 },
 "nbformat": 4,
 "nbformat_minor": 2
}
